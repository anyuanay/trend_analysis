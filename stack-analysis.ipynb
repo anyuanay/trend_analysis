{
 "metadata": {
  "name": "",
  "signature": "sha256:7ccb4ed245b562bd09a122eb3fc06385ef0ae827cb170d103c2af9bf5a54eee6"
 },
 "nbformat": 3,
 "nbformat_minor": 0,
 "worksheets": [
  {
   "cells": [
    {
     "cell_type": "heading",
     "level": 2,
     "metadata": {},
     "source": [
      "Extract biopharma stock close prices for the past month."
     ]
    },
    {
     "cell_type": "code",
     "collapsed": false,
     "input": [
      "import pandas as pd\n",
      "companies = pd.read_csv(\"biotech-companylist.csv\")\n",
      "companies.columns"
     ],
     "language": "python",
     "metadata": {},
     "outputs": [
      {
       "metadata": {},
       "output_type": "pyout",
       "prompt_number": 34,
       "text": [
        "Index([u'Symbol', u'Name', u'LastSale', u'MarketCap', u'ADR TSO', u'IPOyear', u'Sector', u'Industry', u'Summary Quote', u'Unnamed: 9'], dtype='object')"
       ]
      }
     ],
     "prompt_number": 34
    },
    {
     "cell_type": "code",
     "collapsed": false,
     "input": [
      "companies.index"
     ],
     "language": "python",
     "metadata": {},
     "outputs": [
      {
       "metadata": {},
       "output_type": "pyout",
       "prompt_number": 35,
       "text": [
        "Int64Index([0, 1, 2, 3, 4, 5, 6, 7, 8, 9, 10, 11, 12, 13, 14, 15, 16, 17, 18, 19, 20, 21, 22, 23, 24, 25, 26, 27, 28, 29, 30, 31, 32, 33, 34, 35, 36, 37, 38, 39, 40, 41, 42, 43, 44, 45, 46, 47, 48, 49, 50, 51, 52, 53, 54, 55, 56, 57, 58, 59, 60, 61, 62, 63, 64, 65, 66, 67, 68, 69, 70, 71, 72, 73, 74, 75, 76, 77, 78, 79, 80, 81, 82, 83, 84, 85, 86, 87, 88, 89, 90, 91, 92, 93, 94, 95, 96, 97, 98, 99, ...], dtype='int64')"
       ]
      }
     ],
     "prompt_number": 35
    },
    {
     "cell_type": "code",
     "collapsed": false,
     "input": [
      "companies.head()"
     ],
     "language": "python",
     "metadata": {},
     "outputs": [
      {
       "html": [
        "<div style=\"max-height:1000px;max-width:1500px;overflow:auto;\">\n",
        "<table border=\"1\" class=\"dataframe\">\n",
        "  <thead>\n",
        "    <tr style=\"text-align: right;\">\n",
        "      <th></th>\n",
        "      <th>Symbol</th>\n",
        "      <th>Name</th>\n",
        "      <th>LastSale</th>\n",
        "      <th>MarketCap</th>\n",
        "      <th>ADR TSO</th>\n",
        "      <th>IPOyear</th>\n",
        "      <th>Sector</th>\n",
        "      <th>Industry</th>\n",
        "      <th>Summary Quote</th>\n",
        "      <th>Unnamed: 9</th>\n",
        "    </tr>\n",
        "  </thead>\n",
        "  <tbody>\n",
        "    <tr>\n",
        "      <th>0</th>\n",
        "      <td>  MMM</td>\n",
        "      <td>               3M Company</td>\n",
        "      <td> 138.72</td>\n",
        "      <td> 8.541170e+10</td>\n",
        "      <td> n/a</td>\n",
        "      <td>  n/a</td>\n",
        "      <td> Health Care</td>\n",
        "      <td> Medical/Dental Instruments</td>\n",
        "      <td>  http://www.nasdaq.com/symbol/mmm</td>\n",
        "      <td>NaN</td>\n",
        "    </tr>\n",
        "    <tr>\n",
        "      <th>1</th>\n",
        "      <td>  AAC</td>\n",
        "      <td>       AAC Holdings, Inc.</td>\n",
        "      <td>  16.24</td>\n",
        "      <td> 3.638947e+08</td>\n",
        "      <td> n/a</td>\n",
        "      <td> 2014</td>\n",
        "      <td> Health Care</td>\n",
        "      <td>       Medical Specialities</td>\n",
        "      <td>  http://www.nasdaq.com/symbol/aac</td>\n",
        "      <td>NaN</td>\n",
        "    </tr>\n",
        "    <tr>\n",
        "      <th>2</th>\n",
        "      <td>  ABT</td>\n",
        "      <td>      Abbott Laboratories</td>\n",
        "      <td>  40.28</td>\n",
        "      <td> 6.008648e+10</td>\n",
        "      <td> n/a</td>\n",
        "      <td>  n/a</td>\n",
        "      <td> Health Care</td>\n",
        "      <td>      Major Pharmaceuticals</td>\n",
        "      <td>  http://www.nasdaq.com/symbol/abt</td>\n",
        "      <td>NaN</td>\n",
        "    </tr>\n",
        "    <tr>\n",
        "      <th>3</th>\n",
        "      <td> ABBV</td>\n",
        "      <td>              AbbVie Inc.</td>\n",
        "      <td>  51.18</td>\n",
        "      <td> 8.366635e+10</td>\n",
        "      <td> n/a</td>\n",
        "      <td> 2012</td>\n",
        "      <td> Health Care</td>\n",
        "      <td>      Major Pharmaceuticals</td>\n",
        "      <td> http://www.nasdaq.com/symbol/abbv</td>\n",
        "      <td>NaN</td>\n",
        "    </tr>\n",
        "    <tr>\n",
        "      <th>4</th>\n",
        "      <td> ABEO</td>\n",
        "      <td> Abeona Therapeutics Inc.</td>\n",
        "      <td>   2.50</td>\n",
        "      <td> 8.183196e+07</td>\n",
        "      <td> n/a</td>\n",
        "      <td>  n/a</td>\n",
        "      <td> Health Care</td>\n",
        "      <td>      Major Pharmaceuticals</td>\n",
        "      <td> http://www.nasdaq.com/symbol/abeo</td>\n",
        "      <td>NaN</td>\n",
        "    </tr>\n",
        "  </tbody>\n",
        "</table>\n",
        "</div>"
       ],
       "metadata": {},
       "output_type": "pyout",
       "prompt_number": 43,
       "text": [
        "  Symbol                      Name  LastSale     MarketCap ADR TSO IPOyear  \\\n",
        "0    MMM                3M Company    138.72  8.541170e+10     n/a     n/a   \n",
        "1    AAC        AAC Holdings, Inc.     16.24  3.638947e+08     n/a    2014   \n",
        "2    ABT       Abbott Laboratories     40.28  6.008648e+10     n/a     n/a   \n",
        "3   ABBV               AbbVie Inc.     51.18  8.366635e+10     n/a    2012   \n",
        "4   ABEO  Abeona Therapeutics Inc.      2.50  8.183196e+07     n/a     n/a   \n",
        "\n",
        "        Sector                    Industry                      Summary Quote  \\\n",
        "0  Health Care  Medical/Dental Instruments   http://www.nasdaq.com/symbol/mmm   \n",
        "1  Health Care        Medical Specialities   http://www.nasdaq.com/symbol/aac   \n",
        "2  Health Care       Major Pharmaceuticals   http://www.nasdaq.com/symbol/abt   \n",
        "3  Health Care       Major Pharmaceuticals  http://www.nasdaq.com/symbol/abbv   \n",
        "4  Health Care       Major Pharmaceuticals  http://www.nasdaq.com/symbol/abeo   \n",
        "\n",
        "   Unnamed: 9  \n",
        "0         NaN  \n",
        "1         NaN  \n",
        "2         NaN  \n",
        "3         NaN  \n",
        "4         NaN  "
       ]
      }
     ],
     "prompt_number": 43
    },
    {
     "cell_type": "code",
     "collapsed": false,
     "input": [
      "companies[companies[\"Symbol\"] == \"ABBV\"]"
     ],
     "language": "python",
     "metadata": {},
     "outputs": [
      {
       "html": [
        "<div style=\"max-height:1000px;max-width:1500px;overflow:auto;\">\n",
        "<table border=\"1\" class=\"dataframe\">\n",
        "  <thead>\n",
        "    <tr style=\"text-align: right;\">\n",
        "      <th></th>\n",
        "      <th>Symbol</th>\n",
        "      <th>Name</th>\n",
        "      <th>LastSale</th>\n",
        "      <th>MarketCap</th>\n",
        "      <th>ADR TSO</th>\n",
        "      <th>IPOyear</th>\n",
        "      <th>Sector</th>\n",
        "      <th>Industry</th>\n",
        "      <th>Summary Quote</th>\n",
        "      <th>Unnamed: 9</th>\n",
        "    </tr>\n",
        "  </thead>\n",
        "  <tbody>\n",
        "    <tr>\n",
        "      <th>3</th>\n",
        "      <td> ABBV</td>\n",
        "      <td> AbbVie Inc.</td>\n",
        "      <td> 51.18</td>\n",
        "      <td> 8.366635e+10</td>\n",
        "      <td> n/a</td>\n",
        "      <td> 2012</td>\n",
        "      <td> Health Care</td>\n",
        "      <td> Major Pharmaceuticals</td>\n",
        "      <td> http://www.nasdaq.com/symbol/abbv</td>\n",
        "      <td>NaN</td>\n",
        "    </tr>\n",
        "  </tbody>\n",
        "</table>\n",
        "</div>"
       ],
       "metadata": {},
       "output_type": "pyout",
       "prompt_number": 39,
       "text": [
        "  Symbol         Name  LastSale     MarketCap ADR TSO IPOyear       Sector  \\\n",
        "3   ABBV  AbbVie Inc.     51.18  8.366635e+10     n/a    2012  Health Care   \n",
        "\n",
        "                Industry                      Summary Quote  Unnamed: 9  \n",
        "3  Major Pharmaceuticals  http://www.nasdaq.com/symbol/abbv         NaN  "
       ]
      }
     ],
     "prompt_number": 39
    },
    {
     "cell_type": "code",
     "collapsed": false,
     "input": [
      "symbols = companies[\"Symbol\"]\n",
      "print symbols[0]\n",
      "print len(symbols)"
     ],
     "language": "python",
     "metadata": {},
     "outputs": [
      {
       "output_type": "stream",
       "stream": "stdout",
       "text": [
        "MMM\n",
        "790\n"
       ]
      }
     ],
     "prompt_number": 100
    },
    {
     "cell_type": "code",
     "collapsed": false,
     "input": [
      "# Extract the stock prices for all bio-tech companies\n",
      "from pandas.io.data import DataReader\n",
      "from datetime import datetime\n",
      "from datetime import timedelta\n",
      "import time\n",
      "import random\n",
      "\n",
      "# calculalte the beginning and end dates\n",
      "start_date = datetime.now() + timedelta(-30)\n",
      "end_date = datetime.today()\n",
      "\n",
      "# Extract all the prices for biotech companies in the past 30 days\n",
      "# when connect ot Yahoo, throttle the queries by 2 second/query\n",
      "quotesList = []\n",
      "existSymbols = []\n",
      "for i in range(len(symbols)):\n",
      "    try:\n",
      "        quotes = DataReader(symbols[i],  'yahoo', start_date, end_date)\n",
      "        quotesList.append(quotes)\n",
      "        existSymbols.append(symbols[i])\n",
      "    except:\n",
      "        print symbols[i] + \" doesn't exist!\"\n",
      "    \n",
      "    interval = random.randint(2, 10)\n",
      "    print str(i) + \": sleep for \"  + str(interval) + \" secs....\"\n",
      "    time.sleep(interval)\n",
      "    \n",
      "# Write the quotes to files which use the symbols as file names\n",
      "for i in range(len(quotesList)):\n",
      "    fname = \"biotech-quotes/\" + existSymbols[i] + \".csv\"\n",
      "    fout = open(fname, \"w\")\n",
      "    quotesList[i].to_csv(fout)\n",
      "    fout.close()"
     ],
     "language": "python",
     "metadata": {},
     "outputs": [
      {
       "output_type": "stream",
       "stream": "stdout",
       "text": [
        "0: sleep for 4 secs....\n",
        "1: sleep for 4 secs...."
       ]
      },
      {
       "output_type": "stream",
       "stream": "stdout",
       "text": [
        "\n",
        "2: sleep for 2 secs...."
       ]
      },
      {
       "output_type": "stream",
       "stream": "stdout",
       "text": [
        "\n",
        "3: sleep for 8 secs...."
       ]
      },
      {
       "output_type": "stream",
       "stream": "stdout",
       "text": [
        "\n",
        "4: sleep for 9 secs...."
       ]
      },
      {
       "output_type": "stream",
       "stream": "stdout",
       "text": [
        "\n",
        "ABEOW doesn't exist!"
       ]
      },
      {
       "output_type": "stream",
       "stream": "stdout",
       "text": [
        "\n",
        "5: sleep for 4 secs....\n",
        "6: sleep for 9 secs...."
       ]
      },
      {
       "output_type": "stream",
       "stream": "stdout",
       "text": [
        "\n",
        "7: sleep for 7 secs...."
       ]
      },
      {
       "output_type": "stream",
       "stream": "stdout",
       "text": [
        "\n",
        "8: sleep for 4 secs...."
       ]
      },
      {
       "output_type": "stream",
       "stream": "stdout",
       "text": [
        "\n",
        "9: sleep for 5 secs...."
       ]
      },
      {
       "output_type": "stream",
       "stream": "stdout",
       "text": [
        "\n",
        "10: sleep for 7 secs...."
       ]
      },
      {
       "output_type": "stream",
       "stream": "stdout",
       "text": [
        "\n",
        "11: sleep for 7 secs...."
       ]
      },
      {
       "output_type": "stream",
       "stream": "stdout",
       "text": [
        "\n",
        "12: sleep for 4 secs...."
       ]
      },
      {
       "output_type": "stream",
       "stream": "stdout",
       "text": [
        "\n",
        "13: sleep for 9 secs...."
       ]
      },
      {
       "output_type": "stream",
       "stream": "stdout",
       "text": [
        "\n",
        "14: sleep for 2 secs...."
       ]
      },
      {
       "output_type": "stream",
       "stream": "stdout",
       "text": [
        "\n",
        "15: sleep for 10 secs...."
       ]
      },
      {
       "output_type": "stream",
       "stream": "stdout",
       "text": [
        "\n",
        "16: sleep for 2 secs...."
       ]
      },
      {
       "output_type": "stream",
       "stream": "stdout",
       "text": [
        "\n",
        "17: sleep for 2 secs...."
       ]
      },
      {
       "output_type": "stream",
       "stream": "stdout",
       "text": [
        "\n",
        "18: sleep for 10 secs...."
       ]
      },
      {
       "output_type": "stream",
       "stream": "stdout",
       "text": [
        "\n",
        "19: sleep for 8 secs...."
       ]
      },
      {
       "output_type": "stream",
       "stream": "stdout",
       "text": [
        "\n",
        "20: sleep for 6 secs...."
       ]
      },
      {
       "output_type": "stream",
       "stream": "stdout",
       "text": [
        "\n",
        "21: sleep for 2 secs...."
       ]
      },
      {
       "output_type": "stream",
       "stream": "stdout",
       "text": [
        "\n",
        "22: sleep for 9 secs...."
       ]
      },
      {
       "output_type": "stream",
       "stream": "stdout",
       "text": [
        "\n",
        "23: sleep for 8 secs...."
       ]
      },
      {
       "output_type": "stream",
       "stream": "stdout",
       "text": [
        "\n",
        "24: sleep for 9 secs...."
       ]
      },
      {
       "output_type": "stream",
       "stream": "stdout",
       "text": [
        "\n",
        "25: sleep for 8 secs...."
       ]
      },
      {
       "output_type": "stream",
       "stream": "stdout",
       "text": [
        "\n",
        "26: sleep for 10 secs...."
       ]
      },
      {
       "output_type": "stream",
       "stream": "stdout",
       "text": [
        "\n",
        "27: sleep for 7 secs...."
       ]
      },
      {
       "output_type": "stream",
       "stream": "stdout",
       "text": [
        "\n",
        "28: sleep for 3 secs...."
       ]
      },
      {
       "output_type": "stream",
       "stream": "stdout",
       "text": [
        "\n",
        "29: sleep for 10 secs...."
       ]
      },
      {
       "output_type": "stream",
       "stream": "stdout",
       "text": [
        "\n",
        "ADXSW doesn't exist!"
       ]
      },
      {
       "output_type": "stream",
       "stream": "stdout",
       "text": [
        "\n",
        "30: sleep for 7 secs....\n",
        "31: sleep for 8 secs...."
       ]
      },
      {
       "output_type": "stream",
       "stream": "stdout",
       "text": [
        "\n",
        "32: sleep for 9 secs...."
       ]
      },
      {
       "output_type": "stream",
       "stream": "stdout",
       "text": [
        "\n",
        "33: sleep for 8 secs...."
       ]
      },
      {
       "output_type": "stream",
       "stream": "stdout",
       "text": [
        "\n",
        "34: sleep for 4 secs...."
       ]
      },
      {
       "output_type": "stream",
       "stream": "stdout",
       "text": [
        "\n",
        "35: sleep for 7 secs...."
       ]
      },
      {
       "output_type": "stream",
       "stream": "stdout",
       "text": [
        "\n",
        "36: sleep for 5 secs...."
       ]
      },
      {
       "output_type": "stream",
       "stream": "stdout",
       "text": [
        "\n",
        "37: sleep for 3 secs...."
       ]
      },
      {
       "output_type": "stream",
       "stream": "stdout",
       "text": [
        "\n",
        "38: sleep for 6 secs...."
       ]
      },
      {
       "output_type": "stream",
       "stream": "stdout",
       "text": [
        "\n",
        "39: sleep for 10 secs...."
       ]
      },
      {
       "output_type": "stream",
       "stream": "stdout",
       "text": [
        "\n",
        "40: sleep for 10 secs...."
       ]
      },
      {
       "output_type": "stream",
       "stream": "stdout",
       "text": [
        "\n",
        "41: sleep for 5 secs...."
       ]
      },
      {
       "output_type": "stream",
       "stream": "stdout",
       "text": [
        "\n",
        "42: sleep for 8 secs...."
       ]
      },
      {
       "output_type": "stream",
       "stream": "stdout",
       "text": [
        "\n",
        "43: sleep for 7 secs...."
       ]
      },
      {
       "output_type": "stream",
       "stream": "stdout",
       "text": [
        "\n",
        "44: sleep for 2 secs...."
       ]
      },
      {
       "output_type": "stream",
       "stream": "stdout",
       "text": [
        "\n",
        "45: sleep for 9 secs...."
       ]
      },
      {
       "output_type": "stream",
       "stream": "stdout",
       "text": [
        "\n",
        "46: sleep for 10 secs...."
       ]
      },
      {
       "output_type": "stream",
       "stream": "stdout",
       "text": [
        "\n",
        "47: sleep for 7 secs...."
       ]
      },
      {
       "output_type": "stream",
       "stream": "stdout",
       "text": [
        "\n",
        "48: sleep for 3 secs...."
       ]
      },
      {
       "output_type": "stream",
       "stream": "stdout",
       "text": [
        "\n",
        "49: sleep for 10 secs...."
       ]
      },
      {
       "output_type": "stream",
       "stream": "stdout",
       "text": [
        "\n",
        "50: sleep for 2 secs...."
       ]
      },
      {
       "output_type": "stream",
       "stream": "stdout",
       "text": [
        "\n",
        "51: sleep for 5 secs...."
       ]
      },
      {
       "output_type": "stream",
       "stream": "stdout",
       "text": [
        "\n",
        "52: sleep for 2 secs...."
       ]
      },
      {
       "output_type": "stream",
       "stream": "stdout",
       "text": [
        "\n",
        "53: sleep for 7 secs...."
       ]
      },
      {
       "output_type": "stream",
       "stream": "stdout",
       "text": [
        "\n",
        "54: sleep for 8 secs...."
       ]
      },
      {
       "output_type": "stream",
       "stream": "stdout",
       "text": [
        "\n",
        "55: sleep for 4 secs...."
       ]
      },
      {
       "output_type": "stream",
       "stream": "stdout",
       "text": [
        "\n",
        "56: sleep for 7 secs...."
       ]
      },
      {
       "output_type": "stream",
       "stream": "stdout",
       "text": [
        "\n",
        "57: sleep for 7 secs...."
       ]
      },
      {
       "output_type": "stream",
       "stream": "stdout",
       "text": [
        "\n",
        "58: sleep for 2 secs...."
       ]
      },
      {
       "output_type": "stream",
       "stream": "stdout",
       "text": [
        "\n",
        "59: sleep for 4 secs...."
       ]
      },
      {
       "output_type": "stream",
       "stream": "stdout",
       "text": [
        "\n",
        "60: sleep for 5 secs...."
       ]
      },
      {
       "output_type": "stream",
       "stream": "stdout",
       "text": [
        "\n",
        "61: sleep for 8 secs...."
       ]
      },
      {
       "output_type": "stream",
       "stream": "stdout",
       "text": [
        "\n",
        "62: sleep for 8 secs...."
       ]
      },
      {
       "output_type": "stream",
       "stream": "stdout",
       "text": [
        "\n",
        "63: sleep for 2 secs...."
       ]
      },
      {
       "output_type": "stream",
       "stream": "stdout",
       "text": [
        "\n",
        "64: sleep for 9 secs...."
       ]
      },
      {
       "output_type": "stream",
       "stream": "stdout",
       "text": [
        "\n",
        "65: sleep for 8 secs...."
       ]
      },
      {
       "output_type": "stream",
       "stream": "stdout",
       "text": [
        "\n",
        "66: sleep for 5 secs...."
       ]
      },
      {
       "output_type": "stream",
       "stream": "stdout",
       "text": [
        "\n",
        "67: sleep for 5 secs...."
       ]
      },
      {
       "output_type": "stream",
       "stream": "stdout",
       "text": [
        "\n",
        "68: sleep for 6 secs...."
       ]
      },
      {
       "output_type": "stream",
       "stream": "stdout",
       "text": [
        "\n",
        "69: sleep for 3 secs...."
       ]
      },
      {
       "output_type": "stream",
       "stream": "stdout",
       "text": [
        "\n",
        "70: sleep for 5 secs...."
       ]
      },
      {
       "output_type": "stream",
       "stream": "stdout",
       "text": [
        "\n",
        "71: sleep for 6 secs...."
       ]
      },
      {
       "output_type": "stream",
       "stream": "stdout",
       "text": [
        "\n",
        "72: sleep for 5 secs...."
       ]
      },
      {
       "output_type": "stream",
       "stream": "stdout",
       "text": [
        "\n",
        "73: sleep for 5 secs...."
       ]
      },
      {
       "output_type": "stream",
       "stream": "stdout",
       "text": [
        "\n",
        "APHB doesn't exist!"
       ]
      },
      {
       "output_type": "stream",
       "stream": "stdout",
       "text": [
        "\n",
        "74: sleep for 7 secs....\n",
        "75: sleep for 5 secs...."
       ]
      },
      {
       "output_type": "stream",
       "stream": "stdout",
       "text": [
        "\n",
        "76: sleep for 5 secs...."
       ]
      },
      {
       "output_type": "stream",
       "stream": "stdout",
       "text": [
        "\n",
        "77: sleep for 3 secs...."
       ]
      },
      {
       "output_type": "stream",
       "stream": "stdout",
       "text": [
        "\n",
        "78: sleep for 4 secs...."
       ]
      },
      {
       "output_type": "stream",
       "stream": "stdout",
       "text": [
        "\n",
        "79: sleep for 5 secs...."
       ]
      },
      {
       "output_type": "stream",
       "stream": "stdout",
       "text": [
        "\n",
        "80: sleep for 10 secs...."
       ]
      },
      {
       "output_type": "stream",
       "stream": "stdout",
       "text": [
        "\n",
        "81: sleep for 7 secs...."
       ]
      },
      {
       "output_type": "stream",
       "stream": "stdout",
       "text": [
        "\n",
        "82: sleep for 7 secs...."
       ]
      },
      {
       "output_type": "stream",
       "stream": "stdout",
       "text": [
        "\n",
        "83: sleep for 10 secs...."
       ]
      },
      {
       "output_type": "stream",
       "stream": "stdout",
       "text": [
        "\n",
        "84: sleep for 8 secs...."
       ]
      },
      {
       "output_type": "stream",
       "stream": "stdout",
       "text": [
        "\n",
        "85: sleep for 7 secs...."
       ]
      },
      {
       "output_type": "stream",
       "stream": "stdout",
       "text": [
        "\n",
        "86: sleep for 7 secs...."
       ]
      },
      {
       "output_type": "stream",
       "stream": "stdout",
       "text": [
        "\n",
        "87: sleep for 8 secs...."
       ]
      },
      {
       "output_type": "stream",
       "stream": "stdout",
       "text": [
        "\n",
        "88: sleep for 8 secs...."
       ]
      },
      {
       "output_type": "stream",
       "stream": "stdout",
       "text": [
        "\n",
        "89: sleep for 5 secs...."
       ]
      },
      {
       "output_type": "stream",
       "stream": "stdout",
       "text": [
        "\n",
        "90: sleep for 6 secs...."
       ]
      },
      {
       "output_type": "stream",
       "stream": "stdout",
       "text": [
        "\n",
        "91: sleep for 10 secs...."
       ]
      },
      {
       "output_type": "stream",
       "stream": "stdout",
       "text": [
        "\n",
        "92: sleep for 10 secs...."
       ]
      },
      {
       "output_type": "stream",
       "stream": "stdout",
       "text": [
        "\n",
        "93: sleep for 10 secs...."
       ]
      },
      {
       "output_type": "stream",
       "stream": "stdout",
       "text": [
        "\n",
        "94: sleep for 2 secs...."
       ]
      },
      {
       "output_type": "stream",
       "stream": "stdout",
       "text": [
        "\n",
        "95: sleep for 5 secs...."
       ]
      },
      {
       "output_type": "stream",
       "stream": "stdout",
       "text": [
        "\n",
        "96: sleep for 2 secs...."
       ]
      },
      {
       "output_type": "stream",
       "stream": "stdout",
       "text": [
        "\n",
        "97: sleep for 6 secs...."
       ]
      },
      {
       "output_type": "stream",
       "stream": "stdout",
       "text": [
        "\n",
        "98: sleep for 8 secs...."
       ]
      },
      {
       "output_type": "stream",
       "stream": "stdout",
       "text": [
        "\n",
        "99: sleep for 9 secs...."
       ]
      },
      {
       "output_type": "stream",
       "stream": "stdout",
       "text": [
        "\n",
        "100: sleep for 3 secs...."
       ]
      },
      {
       "output_type": "stream",
       "stream": "stdout",
       "text": [
        "\n",
        "101: sleep for 5 secs...."
       ]
      },
      {
       "output_type": "stream",
       "stream": "stdout",
       "text": [
        "\n",
        "102: sleep for 3 secs...."
       ]
      },
      {
       "output_type": "stream",
       "stream": "stdout",
       "text": [
        "\n",
        "103: sleep for 3 secs...."
       ]
      },
      {
       "output_type": "stream",
       "stream": "stdout",
       "text": [
        "\n",
        "104: sleep for 2 secs...."
       ]
      },
      {
       "output_type": "stream",
       "stream": "stdout",
       "text": [
        "\n",
        "105: sleep for 8 secs...."
       ]
      },
      {
       "output_type": "stream",
       "stream": "stdout",
       "text": [
        "\n",
        "106: sleep for 5 secs...."
       ]
      },
      {
       "output_type": "stream",
       "stream": "stdout",
       "text": [
        "\n",
        "107: sleep for 10 secs...."
       ]
      },
      {
       "output_type": "stream",
       "stream": "stdout",
       "text": [
        "\n",
        "108: sleep for 9 secs...."
       ]
      },
      {
       "output_type": "stream",
       "stream": "stdout",
       "text": [
        "\n",
        "109: sleep for 3 secs...."
       ]
      },
      {
       "output_type": "stream",
       "stream": "stdout",
       "text": [
        "\n",
        "110: sleep for 9 secs...."
       ]
      },
      {
       "output_type": "stream",
       "stream": "stdout",
       "text": [
        "\n",
        "111: sleep for 4 secs...."
       ]
      },
      {
       "output_type": "stream",
       "stream": "stdout",
       "text": [
        "\n",
        "112: sleep for 3 secs...."
       ]
      },
      {
       "output_type": "stream",
       "stream": "stdout",
       "text": [
        "\n",
        "113: sleep for 6 secs...."
       ]
      },
      {
       "output_type": "stream",
       "stream": "stdout",
       "text": [
        "\n",
        "114: sleep for 7 secs...."
       ]
      },
      {
       "output_type": "stream",
       "stream": "stdout",
       "text": [
        "\n",
        "115: sleep for 6 secs...."
       ]
      },
      {
       "output_type": "stream",
       "stream": "stdout",
       "text": [
        "\n",
        "116: sleep for 5 secs...."
       ]
      },
      {
       "output_type": "stream",
       "stream": "stdout",
       "text": [
        "\n",
        "117: sleep for 7 secs...."
       ]
      },
      {
       "output_type": "stream",
       "stream": "stdout",
       "text": [
        "\n",
        "118: sleep for 7 secs...."
       ]
      },
      {
       "output_type": "stream",
       "stream": "stdout",
       "text": [
        "\n",
        "119: sleep for 2 secs...."
       ]
      },
      {
       "output_type": "stream",
       "stream": "stdout",
       "text": [
        "\n",
        "120: sleep for 10 secs...."
       ]
      },
      {
       "output_type": "stream",
       "stream": "stdout",
       "text": [
        "\n",
        "121: sleep for 9 secs...."
       ]
      },
      {
       "output_type": "stream",
       "stream": "stdout",
       "text": [
        "\n",
        "122: sleep for 7 secs...."
       ]
      },
      {
       "output_type": "stream",
       "stream": "stdout",
       "text": [
        "\n",
        "123: sleep for 3 secs...."
       ]
      },
      {
       "output_type": "stream",
       "stream": "stdout",
       "text": [
        "\n",
        "124: sleep for 4 secs...."
       ]
      },
      {
       "output_type": "stream",
       "stream": "stdout",
       "text": [
        "\n",
        "125: sleep for 8 secs...."
       ]
      },
      {
       "output_type": "stream",
       "stream": "stdout",
       "text": [
        "\n",
        "BNTCW doesn't exist!"
       ]
      },
      {
       "output_type": "stream",
       "stream": "stdout",
       "text": [
        "\n",
        "126: sleep for 6 secs....\n",
        "127: sleep for 7 secs...."
       ]
      },
      {
       "output_type": "stream",
       "stream": "stdout",
       "text": [
        "\n",
        "128: sleep for 7 secs...."
       ]
      },
      {
       "output_type": "stream",
       "stream": "stdout",
       "text": [
        "\n",
        "129: sleep for 3 secs...."
       ]
      },
      {
       "output_type": "stream",
       "stream": "stdout",
       "text": [
        "\n",
        "130: sleep for 5 secs...."
       ]
      },
      {
       "output_type": "stream",
       "stream": "stdout",
       "text": [
        "\n",
        "131: sleep for 9 secs...."
       ]
      },
      {
       "output_type": "stream",
       "stream": "stdout",
       "text": [
        "\n",
        "132: sleep for 7 secs...."
       ]
      },
      {
       "output_type": "stream",
       "stream": "stdout",
       "text": [
        "\n",
        "133: sleep for 10 secs...."
       ]
      },
      {
       "output_type": "stream",
       "stream": "stdout",
       "text": [
        "\n",
        "134: sleep for 10 secs...."
       ]
      },
      {
       "output_type": "stream",
       "stream": "stdout",
       "text": [
        "\n",
        "135: sleep for 4 secs...."
       ]
      },
      {
       "output_type": "stream",
       "stream": "stdout",
       "text": [
        "\n",
        "136: sleep for 9 secs...."
       ]
      },
      {
       "output_type": "stream",
       "stream": "stdout",
       "text": [
        "\n",
        "137: sleep for 6 secs...."
       ]
      },
      {
       "output_type": "stream",
       "stream": "stdout",
       "text": [
        "\n",
        "138: sleep for 10 secs...."
       ]
      },
      {
       "output_type": "stream",
       "stream": "stdout",
       "text": [
        "\n",
        "139: sleep for 5 secs...."
       ]
      },
      {
       "output_type": "stream",
       "stream": "stdout",
       "text": [
        "\n",
        "BVXVW doesn't exist!"
       ]
      },
      {
       "output_type": "stream",
       "stream": "stdout",
       "text": [
        "\n",
        "140: sleep for 7 secs....\n",
        "141: sleep for 6 secs...."
       ]
      },
      {
       "output_type": "stream",
       "stream": "stdout",
       "text": [
        "\n",
        "142: sleep for 2 secs...."
       ]
      },
      {
       "output_type": "stream",
       "stream": "stdout",
       "text": [
        "\n",
        "143: sleep for 7 secs...."
       ]
      },
      {
       "output_type": "stream",
       "stream": "stdout",
       "text": [
        "\n",
        "144: sleep for 2 secs...."
       ]
      },
      {
       "output_type": "stream",
       "stream": "stdout",
       "text": [
        "\n",
        "145: sleep for 9 secs...."
       ]
      },
      {
       "output_type": "stream",
       "stream": "stdout",
       "text": [
        "\n",
        "146: sleep for 8 secs...."
       ]
      },
      {
       "output_type": "stream",
       "stream": "stdout",
       "text": [
        "\n",
        "147: sleep for 3 secs...."
       ]
      },
      {
       "output_type": "stream",
       "stream": "stdout",
       "text": [
        "\n",
        "148: sleep for 6 secs...."
       ]
      },
      {
       "output_type": "stream",
       "stream": "stdout",
       "text": [
        "\n",
        "149: sleep for 7 secs...."
       ]
      },
      {
       "output_type": "stream",
       "stream": "stdout",
       "text": [
        "\n",
        "150: sleep for 7 secs...."
       ]
      },
      {
       "output_type": "stream",
       "stream": "stdout",
       "text": [
        "\n",
        "151: sleep for 5 secs...."
       ]
      },
      {
       "output_type": "stream",
       "stream": "stdout",
       "text": [
        "\n",
        "152: sleep for 3 secs...."
       ]
      },
      {
       "output_type": "stream",
       "stream": "stdout",
       "text": [
        "\n",
        "153: sleep for 9 secs...."
       ]
      },
      {
       "output_type": "stream",
       "stream": "stdout",
       "text": [
        "\n",
        "154: sleep for 10 secs...."
       ]
      },
      {
       "output_type": "stream",
       "stream": "stdout",
       "text": [
        "\n",
        "155: sleep for 3 secs...."
       ]
      },
      {
       "output_type": "stream",
       "stream": "stdout",
       "text": [
        "\n",
        "156: sleep for 10 secs...."
       ]
      },
      {
       "output_type": "stream",
       "stream": "stdout",
       "text": [
        "\n",
        "157: sleep for 10 secs...."
       ]
      },
      {
       "output_type": "stream",
       "stream": "stdout",
       "text": [
        "\n",
        "158: sleep for 9 secs...."
       ]
      },
      {
       "output_type": "stream",
       "stream": "stdout",
       "text": [
        "\n",
        "159: sleep for 9 secs...."
       ]
      },
      {
       "output_type": "stream",
       "stream": "stdout",
       "text": [
        "\n",
        "160: sleep for 3 secs...."
       ]
      },
      {
       "output_type": "stream",
       "stream": "stdout",
       "text": [
        "\n",
        "161: sleep for 7 secs...."
       ]
      },
      {
       "output_type": "stream",
       "stream": "stdout",
       "text": [
        "\n",
        "162: sleep for 10 secs...."
       ]
      },
      {
       "output_type": "stream",
       "stream": "stdout",
       "text": [
        "\n",
        "163: sleep for 6 secs...."
       ]
      },
      {
       "output_type": "stream",
       "stream": "stdout",
       "text": [
        "\n",
        "164: sleep for 5 secs...."
       ]
      },
      {
       "output_type": "stream",
       "stream": "stdout",
       "text": [
        "\n",
        "165: sleep for 9 secs...."
       ]
      },
      {
       "output_type": "stream",
       "stream": "stdout",
       "text": [
        "\n",
        "166: sleep for 10 secs...."
       ]
      },
      {
       "output_type": "stream",
       "stream": "stdout",
       "text": [
        "\n",
        "167: sleep for 7 secs...."
       ]
      },
      {
       "output_type": "stream",
       "stream": "stdout",
       "text": [
        "\n",
        "168: sleep for 2 secs...."
       ]
      },
      {
       "output_type": "stream",
       "stream": "stdout",
       "text": [
        "\n",
        "169: sleep for 5 secs...."
       ]
      },
      {
       "output_type": "stream",
       "stream": "stdout",
       "text": [
        "\n",
        "170: sleep for 6 secs...."
       ]
      },
      {
       "output_type": "stream",
       "stream": "stdout",
       "text": [
        "\n",
        "171: sleep for 9 secs...."
       ]
      },
      {
       "output_type": "stream",
       "stream": "stdout",
       "text": [
        "\n",
        "172: sleep for 6 secs...."
       ]
      },
      {
       "output_type": "stream",
       "stream": "stdout",
       "text": [
        "\n",
        "173: sleep for 6 secs...."
       ]
      },
      {
       "output_type": "stream",
       "stream": "stdout",
       "text": [
        "\n",
        "174: sleep for 3 secs...."
       ]
      },
      {
       "output_type": "stream",
       "stream": "stdout",
       "text": [
        "\n",
        "175: sleep for 10 secs...."
       ]
      },
      {
       "output_type": "stream",
       "stream": "stdout",
       "text": [
        "\n",
        "176: sleep for 7 secs...."
       ]
      },
      {
       "output_type": "stream",
       "stream": "stdout",
       "text": [
        "\n",
        "177: sleep for 2 secs...."
       ]
      },
      {
       "output_type": "stream",
       "stream": "stdout",
       "text": [
        "\n",
        "178: sleep for 5 secs...."
       ]
      },
      {
       "output_type": "stream",
       "stream": "stdout",
       "text": [
        "\n",
        "179: sleep for 7 secs...."
       ]
      },
      {
       "output_type": "stream",
       "stream": "stdout",
       "text": [
        "\n",
        "180: sleep for 10 secs...."
       ]
      },
      {
       "output_type": "stream",
       "stream": "stdout",
       "text": [
        "\n",
        "181: sleep for 4 secs...."
       ]
      },
      {
       "output_type": "stream",
       "stream": "stdout",
       "text": [
        "\n",
        "182: sleep for 8 secs...."
       ]
      },
      {
       "output_type": "stream",
       "stream": "stdout",
       "text": [
        "\n",
        "183: sleep for 6 secs...."
       ]
      },
      {
       "output_type": "stream",
       "stream": "stdout",
       "text": [
        "\n",
        "184: sleep for 9 secs...."
       ]
      },
      {
       "output_type": "stream",
       "stream": "stdout",
       "text": [
        "\n",
        "185: sleep for 6 secs...."
       ]
      },
      {
       "output_type": "stream",
       "stream": "stdout",
       "text": [
        "\n",
        "186: sleep for 9 secs...."
       ]
      },
      {
       "output_type": "stream",
       "stream": "stdout",
       "text": [
        "\n",
        "187: sleep for 8 secs...."
       ]
      },
      {
       "output_type": "stream",
       "stream": "stdout",
       "text": [
        "\n",
        "188: sleep for 10 secs...."
       ]
      },
      {
       "output_type": "stream",
       "stream": "stdout",
       "text": [
        "\n",
        "189: sleep for 5 secs...."
       ]
      },
      {
       "output_type": "stream",
       "stream": "stdout",
       "text": [
        "\n",
        "190: sleep for 9 secs...."
       ]
      },
      {
       "output_type": "stream",
       "stream": "stdout",
       "text": [
        "\n",
        "191: sleep for 2 secs...."
       ]
      },
      {
       "output_type": "stream",
       "stream": "stdout",
       "text": [
        "\n",
        "192: sleep for 9 secs...."
       ]
      },
      {
       "output_type": "stream",
       "stream": "stdout",
       "text": [
        "\n",
        "193: sleep for 7 secs...."
       ]
      },
      {
       "output_type": "stream",
       "stream": "stdout",
       "text": [
        "\n",
        "194: sleep for 7 secs...."
       ]
      },
      {
       "output_type": "stream",
       "stream": "stdout",
       "text": [
        "\n",
        "195: sleep for 3 secs...."
       ]
      },
      {
       "output_type": "stream",
       "stream": "stdout",
       "text": [
        "\n",
        "196: sleep for 6 secs...."
       ]
      },
      {
       "output_type": "stream",
       "stream": "stdout",
       "text": [
        "\n",
        "CERCW doesn't exist!"
       ]
      },
      {
       "output_type": "stream",
       "stream": "stdout",
       "text": [
        "\n",
        "197: sleep for 6 secs....\n",
        "CERCZ doesn't exist!"
       ]
      },
      {
       "output_type": "stream",
       "stream": "stdout",
       "text": [
        "\n",
        "198: sleep for 3 secs....\n",
        "199: sleep for 4 secs...."
       ]
      },
      {
       "output_type": "stream",
       "stream": "stdout",
       "text": [
        "\n",
        "200: sleep for 6 secs...."
       ]
      },
      {
       "output_type": "stream",
       "stream": "stdout",
       "text": [
        "\n",
        "201: sleep for 3 secs...."
       ]
      },
      {
       "output_type": "stream",
       "stream": "stdout",
       "text": [
        "\n",
        "202: sleep for 4 secs...."
       ]
      },
      {
       "output_type": "stream",
       "stream": "stdout",
       "text": [
        "\n",
        "203: sleep for 4 secs...."
       ]
      },
      {
       "output_type": "stream",
       "stream": "stdout",
       "text": [
        "\n",
        "CHEKW doesn't exist!"
       ]
      },
      {
       "output_type": "stream",
       "stream": "stdout",
       "text": [
        "\n",
        "204: sleep for 3 secs....\n",
        "205: sleep for 7 secs...."
       ]
      },
      {
       "output_type": "stream",
       "stream": "stdout",
       "text": [
        "\n",
        "206: sleep for 7 secs...."
       ]
      },
      {
       "output_type": "stream",
       "stream": "stdout",
       "text": [
        "\n",
        "207: sleep for 7 secs...."
       ]
      },
      {
       "output_type": "stream",
       "stream": "stdout",
       "text": [
        "\n",
        "208: sleep for 10 secs...."
       ]
      },
      {
       "output_type": "stream",
       "stream": "stdout",
       "text": [
        "\n",
        "209: sleep for 9 secs...."
       ]
      },
      {
       "output_type": "stream",
       "stream": "stdout",
       "text": [
        "\n",
        "210: sleep for 10 secs...."
       ]
      },
      {
       "output_type": "stream",
       "stream": "stdout",
       "text": [
        "\n",
        "211: sleep for 10 secs...."
       ]
      },
      {
       "output_type": "stream",
       "stream": "stdout",
       "text": [
        "\n",
        "212: sleep for 10 secs...."
       ]
      },
      {
       "output_type": "stream",
       "stream": "stdout",
       "text": [
        "\n",
        "213: sleep for 6 secs...."
       ]
      },
      {
       "output_type": "stream",
       "stream": "stdout",
       "text": [
        "\n",
        "214: sleep for 7 secs...."
       ]
      },
      {
       "output_type": "stream",
       "stream": "stdout",
       "text": [
        "\n",
        "215: sleep for 6 secs...."
       ]
      },
      {
       "output_type": "stream",
       "stream": "stdout",
       "text": [
        "\n",
        "216: sleep for 6 secs...."
       ]
      },
      {
       "output_type": "stream",
       "stream": "stdout",
       "text": [
        "\n",
        "217: sleep for 8 secs...."
       ]
      },
      {
       "output_type": "stream",
       "stream": "stdout",
       "text": [
        "\n",
        "218: sleep for 7 secs...."
       ]
      },
      {
       "output_type": "stream",
       "stream": "stdout",
       "text": [
        "\n",
        "219: sleep for 2 secs...."
       ]
      },
      {
       "output_type": "stream",
       "stream": "stdout",
       "text": [
        "\n",
        "220: sleep for 4 secs...."
       ]
      },
      {
       "output_type": "stream",
       "stream": "stdout",
       "text": [
        "\n",
        "221: sleep for 3 secs...."
       ]
      },
      {
       "output_type": "stream",
       "stream": "stdout",
       "text": [
        "\n",
        "222: sleep for 6 secs...."
       ]
      },
      {
       "output_type": "stream",
       "stream": "stdout",
       "text": [
        "\n",
        "223: sleep for 9 secs...."
       ]
      },
      {
       "output_type": "stream",
       "stream": "stdout",
       "text": [
        "\n",
        "224: sleep for 6 secs...."
       ]
      },
      {
       "output_type": "stream",
       "stream": "stdout",
       "text": [
        "\n",
        "CYHHZ doesn't exist!"
       ]
      },
      {
       "output_type": "stream",
       "stream": "stdout",
       "text": [
        "\n",
        "225: sleep for 8 secs....\n",
        "226: sleep for 5 secs...."
       ]
      },
      {
       "output_type": "stream",
       "stream": "stdout",
       "text": [
        "\n",
        "227: sleep for 5 secs...."
       ]
      },
      {
       "output_type": "stream",
       "stream": "stdout",
       "text": [
        "\n",
        "228: sleep for 9 secs...."
       ]
      },
      {
       "output_type": "stream",
       "stream": "stdout",
       "text": [
        "\n",
        "229: sleep for 9 secs...."
       ]
      },
      {
       "output_type": "stream",
       "stream": "stdout",
       "text": [
        "\n",
        "230: sleep for 9 secs...."
       ]
      },
      {
       "output_type": "stream",
       "stream": "stdout",
       "text": [
        "\n",
        "231: sleep for 5 secs...."
       ]
      },
      {
       "output_type": "stream",
       "stream": "stdout",
       "text": [
        "\n",
        "232: sleep for 10 secs...."
       ]
      },
      {
       "output_type": "stream",
       "stream": "stdout",
       "text": [
        "\n",
        "233: sleep for 3 secs...."
       ]
      },
      {
       "output_type": "stream",
       "stream": "stdout",
       "text": [
        "\n",
        "234: sleep for 3 secs...."
       ]
      },
      {
       "output_type": "stream",
       "stream": "stdout",
       "text": [
        "\n",
        "235: sleep for 8 secs...."
       ]
      },
      {
       "output_type": "stream",
       "stream": "stdout",
       "text": [
        "\n",
        "236: sleep for 6 secs...."
       ]
      },
      {
       "output_type": "stream",
       "stream": "stdout",
       "text": [
        "\n",
        "237: sleep for 8 secs...."
       ]
      },
      {
       "output_type": "stream",
       "stream": "stdout",
       "text": [
        "\n",
        "238: sleep for 9 secs...."
       ]
      },
      {
       "output_type": "stream",
       "stream": "stdout",
       "text": [
        "\n",
        "239: sleep for 5 secs...."
       ]
      },
      {
       "output_type": "stream",
       "stream": "stdout",
       "text": [
        "\n",
        "240: sleep for 2 secs...."
       ]
      },
      {
       "output_type": "stream",
       "stream": "stdout",
       "text": [
        "\n",
        "241: sleep for 10 secs...."
       ]
      },
      {
       "output_type": "stream",
       "stream": "stdout",
       "text": [
        "\n",
        "242: sleep for 6 secs...."
       ]
      },
      {
       "output_type": "stream",
       "stream": "stdout",
       "text": [
        "\n",
        "243: sleep for 3 secs...."
       ]
      },
      {
       "output_type": "stream",
       "stream": "stdout",
       "text": [
        "\n",
        "244: sleep for 3 secs...."
       ]
      },
      {
       "output_type": "stream",
       "stream": "stdout",
       "text": [
        "\n",
        "245: sleep for 5 secs...."
       ]
      },
      {
       "output_type": "stream",
       "stream": "stdout",
       "text": [
        "\n",
        "246: sleep for 6 secs...."
       ]
      },
      {
       "output_type": "stream",
       "stream": "stdout",
       "text": [
        "\n",
        "247: sleep for 4 secs...."
       ]
      },
      {
       "output_type": "stream",
       "stream": "stdout",
       "text": [
        "\n",
        "248: sleep for 10 secs...."
       ]
      },
      {
       "output_type": "stream",
       "stream": "stdout",
       "text": [
        "\n",
        "249: sleep for 10 secs...."
       ]
      },
      {
       "output_type": "stream",
       "stream": "stdout",
       "text": [
        "\n",
        "250: sleep for 4 secs...."
       ]
      },
      {
       "output_type": "stream",
       "stream": "stdout",
       "text": [
        "\n",
        "251: sleep for 9 secs...."
       ]
      },
      {
       "output_type": "stream",
       "stream": "stdout",
       "text": [
        "\n",
        "252: sleep for 2 secs...."
       ]
      },
      {
       "output_type": "stream",
       "stream": "stdout",
       "text": [
        "\n",
        "253: sleep for 6 secs...."
       ]
      },
      {
       "output_type": "stream",
       "stream": "stdout",
       "text": [
        "\n",
        "254: sleep for 7 secs...."
       ]
      },
      {
       "output_type": "stream",
       "stream": "stdout",
       "text": [
        "\n",
        "255: sleep for 3 secs...."
       ]
      },
      {
       "output_type": "stream",
       "stream": "stdout",
       "text": [
        "\n",
        "256: sleep for 7 secs...."
       ]
      },
      {
       "output_type": "stream",
       "stream": "stdout",
       "text": [
        "\n",
        "257: sleep for 5 secs...."
       ]
      },
      {
       "output_type": "stream",
       "stream": "stdout",
       "text": [
        "\n",
        "258: sleep for 2 secs...."
       ]
      },
      {
       "output_type": "stream",
       "stream": "stdout",
       "text": [
        "\n",
        "259: sleep for 8 secs...."
       ]
      },
      {
       "output_type": "stream",
       "stream": "stdout",
       "text": [
        "\n",
        "260: sleep for 9 secs...."
       ]
      },
      {
       "output_type": "stream",
       "stream": "stdout",
       "text": [
        "\n",
        "261: sleep for 2 secs...."
       ]
      },
      {
       "output_type": "stream",
       "stream": "stdout",
       "text": [
        "\n",
        "262: sleep for 6 secs...."
       ]
      },
      {
       "output_type": "stream",
       "stream": "stdout",
       "text": [
        "\n",
        "263: sleep for 6 secs...."
       ]
      },
      {
       "output_type": "stream",
       "stream": "stdout",
       "text": [
        "\n",
        "264: sleep for 6 secs...."
       ]
      },
      {
       "output_type": "stream",
       "stream": "stdout",
       "text": [
        "\n",
        "265: sleep for 9 secs...."
       ]
      },
      {
       "output_type": "stream",
       "stream": "stdout",
       "text": [
        "\n",
        "266: sleep for 6 secs...."
       ]
      },
      {
       "output_type": "stream",
       "stream": "stdout",
       "text": [
        "\n",
        "267: sleep for 4 secs...."
       ]
      },
      {
       "output_type": "stream",
       "stream": "stdout",
       "text": [
        "\n",
        "268: sleep for 8 secs...."
       ]
      },
      {
       "output_type": "stream",
       "stream": "stdout",
       "text": [
        "\n",
        "269: sleep for 5 secs...."
       ]
      },
      {
       "output_type": "stream",
       "stream": "stdout",
       "text": [
        "\n",
        "270: sleep for 2 secs...."
       ]
      },
      {
       "output_type": "stream",
       "stream": "stdout",
       "text": [
        "\n",
        "271: sleep for 8 secs...."
       ]
      },
      {
       "output_type": "stream",
       "stream": "stdout",
       "text": [
        "\n",
        "272: sleep for 3 secs...."
       ]
      },
      {
       "output_type": "stream",
       "stream": "stdout",
       "text": [
        "\n",
        "273: sleep for 3 secs...."
       ]
      },
      {
       "output_type": "stream",
       "stream": "stdout",
       "text": [
        "\n",
        "274: sleep for 5 secs...."
       ]
      },
      {
       "output_type": "stream",
       "stream": "stdout",
       "text": [
        "\n",
        "275: sleep for 7 secs...."
       ]
      },
      {
       "output_type": "stream",
       "stream": "stdout",
       "text": [
        "\n",
        "276: sleep for 9 secs...."
       ]
      },
      {
       "output_type": "stream",
       "stream": "stdout",
       "text": [
        "\n",
        "277: sleep for 3 secs...."
       ]
      },
      {
       "output_type": "stream",
       "stream": "stdout",
       "text": [
        "\n",
        "278: sleep for 2 secs...."
       ]
      },
      {
       "output_type": "stream",
       "stream": "stdout",
       "text": [
        "\n",
        "279: sleep for 9 secs...."
       ]
      },
      {
       "output_type": "stream",
       "stream": "stdout",
       "text": [
        "\n",
        "280: sleep for 3 secs...."
       ]
      },
      {
       "output_type": "stream",
       "stream": "stdout",
       "text": [
        "\n",
        "281: sleep for 5 secs...."
       ]
      },
      {
       "output_type": "stream",
       "stream": "stdout",
       "text": [
        "\n",
        "282: sleep for 3 secs...."
       ]
      },
      {
       "output_type": "stream",
       "stream": "stdout",
       "text": [
        "\n",
        "283: sleep for 2 secs...."
       ]
      },
      {
       "output_type": "stream",
       "stream": "stdout",
       "text": [
        "\n",
        "284: sleep for 5 secs...."
       ]
      },
      {
       "output_type": "stream",
       "stream": "stdout",
       "text": [
        "\n",
        "285: sleep for 8 secs...."
       ]
      },
      {
       "output_type": "stream",
       "stream": "stdout",
       "text": [
        "\n",
        "286: sleep for 8 secs...."
       ]
      },
      {
       "output_type": "stream",
       "stream": "stdout",
       "text": [
        "\n",
        "287: sleep for 10 secs...."
       ]
      },
      {
       "output_type": "stream",
       "stream": "stdout",
       "text": [
        "\n",
        "288: sleep for 10 secs...."
       ]
      },
      {
       "output_type": "stream",
       "stream": "stdout",
       "text": [
        "\n",
        "289: sleep for 8 secs...."
       ]
      },
      {
       "output_type": "stream",
       "stream": "stdout",
       "text": [
        "\n",
        "290: sleep for 8 secs...."
       ]
      },
      {
       "output_type": "stream",
       "stream": "stdout",
       "text": [
        "\n",
        "291: sleep for 6 secs...."
       ]
      },
      {
       "output_type": "stream",
       "stream": "stdout",
       "text": [
        "\n",
        "292: sleep for 8 secs...."
       ]
      },
      {
       "output_type": "stream",
       "stream": "stdout",
       "text": [
        "\n",
        "293: sleep for 2 secs...."
       ]
      },
      {
       "output_type": "stream",
       "stream": "stdout",
       "text": [
        "\n",
        "294: sleep for 7 secs...."
       ]
      },
      {
       "output_type": "stream",
       "stream": "stdout",
       "text": [
        "\n",
        "295: sleep for 2 secs...."
       ]
      },
      {
       "output_type": "stream",
       "stream": "stdout",
       "text": [
        "\n",
        "296: sleep for 5 secs...."
       ]
      },
      {
       "output_type": "stream",
       "stream": "stdout",
       "text": [
        "\n",
        "297: sleep for 5 secs...."
       ]
      },
      {
       "output_type": "stream",
       "stream": "stdout",
       "text": [
        "\n",
        "298: sleep for 7 secs...."
       ]
      },
      {
       "output_type": "stream",
       "stream": "stdout",
       "text": [
        "\n",
        "299: sleep for 4 secs...."
       ]
      },
      {
       "output_type": "stream",
       "stream": "stdout",
       "text": [
        "\n",
        "300: sleep for 6 secs...."
       ]
      },
      {
       "output_type": "stream",
       "stream": "stdout",
       "text": [
        "\n",
        "301: sleep for 2 secs...."
       ]
      },
      {
       "output_type": "stream",
       "stream": "stdout",
       "text": [
        "\n",
        "302: sleep for 10 secs...."
       ]
      },
      {
       "output_type": "stream",
       "stream": "stdout",
       "text": [
        "\n",
        "303: sleep for 9 secs...."
       ]
      },
      {
       "output_type": "stream",
       "stream": "stdout",
       "text": [
        "\n",
        "304: sleep for 7 secs...."
       ]
      },
      {
       "output_type": "stream",
       "stream": "stdout",
       "text": [
        "\n",
        "305: sleep for 2 secs...."
       ]
      },
      {
       "output_type": "stream",
       "stream": "stdout",
       "text": [
        "\n",
        "306: sleep for 9 secs...."
       ]
      },
      {
       "output_type": "stream",
       "stream": "stdout",
       "text": [
        "\n",
        "307: sleep for 10 secs...."
       ]
      },
      {
       "output_type": "stream",
       "stream": "stdout",
       "text": [
        "\n",
        "308: sleep for 4 secs...."
       ]
      },
      {
       "output_type": "stream",
       "stream": "stdout",
       "text": [
        "\n",
        "309: sleep for 4 secs...."
       ]
      },
      {
       "output_type": "stream",
       "stream": "stdout",
       "text": [
        "\n",
        "310: sleep for 10 secs...."
       ]
      },
      {
       "output_type": "stream",
       "stream": "stdout",
       "text": [
        "\n",
        "311: sleep for 9 secs...."
       ]
      },
      {
       "output_type": "stream",
       "stream": "stdout",
       "text": [
        "\n",
        "312: sleep for 7 secs...."
       ]
      },
      {
       "output_type": "stream",
       "stream": "stdout",
       "text": [
        "\n",
        "EYEGW doesn't exist!"
       ]
      },
      {
       "output_type": "stream",
       "stream": "stdout",
       "text": [
        "\n",
        "313: sleep for 6 secs....\n",
        "314: sleep for 9 secs...."
       ]
      },
      {
       "output_type": "stream",
       "stream": "stdout",
       "text": [
        "\n",
        "315: sleep for 4 secs...."
       ]
      },
      {
       "output_type": "stream",
       "stream": "stdout",
       "text": [
        "\n",
        "316: sleep for 9 secs...."
       ]
      },
      {
       "output_type": "stream",
       "stream": "stdout",
       "text": [
        "\n",
        "317: sleep for 7 secs...."
       ]
      },
      {
       "output_type": "stream",
       "stream": "stdout",
       "text": [
        "\n",
        "318: sleep for 7 secs...."
       ]
      },
      {
       "output_type": "stream",
       "stream": "stdout",
       "text": [
        "\n",
        "319: sleep for 5 secs...."
       ]
      },
      {
       "output_type": "stream",
       "stream": "stdout",
       "text": [
        "\n",
        "320: sleep for 3 secs...."
       ]
      },
      {
       "output_type": "stream",
       "stream": "stdout",
       "text": [
        "\n",
        "321: sleep for 9 secs...."
       ]
      },
      {
       "output_type": "stream",
       "stream": "stdout",
       "text": [
        "\n",
        "322: sleep for 3 secs...."
       ]
      },
      {
       "output_type": "stream",
       "stream": "stdout",
       "text": [
        "\n",
        "323: sleep for 7 secs...."
       ]
      },
      {
       "output_type": "stream",
       "stream": "stdout",
       "text": [
        "\n",
        "324: sleep for 9 secs...."
       ]
      },
      {
       "output_type": "stream",
       "stream": "stdout",
       "text": [
        "\n",
        "325: sleep for 2 secs...."
       ]
      },
      {
       "output_type": "stream",
       "stream": "stdout",
       "text": [
        "\n",
        "326: sleep for 2 secs...."
       ]
      },
      {
       "output_type": "stream",
       "stream": "stdout",
       "text": [
        "\n",
        "327: sleep for 3 secs...."
       ]
      },
      {
       "output_type": "stream",
       "stream": "stdout",
       "text": [
        "\n",
        "328: sleep for 7 secs...."
       ]
      },
      {
       "output_type": "stream",
       "stream": "stdout",
       "text": [
        "\n",
        "329: sleep for 4 secs...."
       ]
      },
      {
       "output_type": "stream",
       "stream": "stdout",
       "text": [
        "\n",
        "330: sleep for 6 secs...."
       ]
      },
      {
       "output_type": "stream",
       "stream": "stdout",
       "text": [
        "\n",
        "331: sleep for 7 secs...."
       ]
      },
      {
       "output_type": "stream",
       "stream": "stdout",
       "text": [
        "\n",
        "332: sleep for 3 secs...."
       ]
      },
      {
       "output_type": "stream",
       "stream": "stdout",
       "text": [
        "\n",
        "GEN            doesn't exist!"
       ]
      },
      {
       "output_type": "stream",
       "stream": "stdout",
       "text": [
        "\n",
        "333: sleep for 4 secs....\n",
        "334: sleep for 2 secs...."
       ]
      },
      {
       "output_type": "stream",
       "stream": "stdout",
       "text": [
        "\n",
        "335: sleep for 6 secs...."
       ]
      },
      {
       "output_type": "stream",
       "stream": "stdout",
       "text": [
        "\n",
        "336: sleep for 8 secs...."
       ]
      },
      {
       "output_type": "stream",
       "stream": "stdout",
       "text": [
        "\n",
        "337: sleep for 6 secs...."
       ]
      },
      {
       "output_type": "stream",
       "stream": "stdout",
       "text": [
        "\n",
        "338: sleep for 4 secs...."
       ]
      },
      {
       "output_type": "stream",
       "stream": "stdout",
       "text": [
        "\n",
        "339: sleep for 10 secs...."
       ]
      },
      {
       "output_type": "stream",
       "stream": "stdout",
       "text": [
        "\n",
        "340: sleep for 7 secs...."
       ]
      },
      {
       "output_type": "stream",
       "stream": "stdout",
       "text": [
        "\n",
        "341: sleep for 2 secs...."
       ]
      },
      {
       "output_type": "stream",
       "stream": "stdout",
       "text": [
        "\n",
        "342: sleep for 7 secs...."
       ]
      },
      {
       "output_type": "stream",
       "stream": "stdout",
       "text": [
        "\n",
        "343: sleep for 6 secs...."
       ]
      },
      {
       "output_type": "stream",
       "stream": "stdout",
       "text": [
        "\n",
        "344: sleep for 7 secs...."
       ]
      },
      {
       "output_type": "stream",
       "stream": "stdout",
       "text": [
        "\n",
        "345: sleep for 8 secs...."
       ]
      },
      {
       "output_type": "stream",
       "stream": "stdout",
       "text": [
        "\n",
        "346: sleep for 10 secs...."
       ]
      },
      {
       "output_type": "stream",
       "stream": "stdout",
       "text": [
        "\n",
        "347: sleep for 2 secs...."
       ]
      },
      {
       "output_type": "stream",
       "stream": "stdout",
       "text": [
        "\n",
        "348: sleep for 4 secs...."
       ]
      },
      {
       "output_type": "stream",
       "stream": "stdout",
       "text": [
        "\n",
        "349: sleep for 5 secs...."
       ]
      },
      {
       "output_type": "stream",
       "stream": "stdout",
       "text": [
        "\n",
        "350: sleep for 9 secs...."
       ]
      },
      {
       "output_type": "stream",
       "stream": "stdout",
       "text": [
        "\n",
        "351: sleep for 10 secs...."
       ]
      },
      {
       "output_type": "stream",
       "stream": "stdout",
       "text": [
        "\n",
        "352: sleep for 9 secs...."
       ]
      },
      {
       "output_type": "stream",
       "stream": "stdout",
       "text": [
        "\n",
        "353: sleep for 6 secs...."
       ]
      },
      {
       "output_type": "stream",
       "stream": "stdout",
       "text": [
        "\n",
        "354: sleep for 10 secs...."
       ]
      },
      {
       "output_type": "stream",
       "stream": "stdout",
       "text": [
        "\n",
        "355: sleep for 2 secs...."
       ]
      },
      {
       "output_type": "stream",
       "stream": "stdout",
       "text": [
        "\n",
        "HART           doesn't exist!"
       ]
      },
      {
       "output_type": "stream",
       "stream": "stdout",
       "text": [
        "\n",
        "356: sleep for 3 secs....\n",
        "357: sleep for 8 secs...."
       ]
      },
      {
       "output_type": "stream",
       "stream": "stdout",
       "text": [
        "\n",
        "358: sleep for 6 secs...."
       ]
      },
      {
       "output_type": "stream",
       "stream": "stdout",
       "text": [
        "\n",
        "359: sleep for 4 secs...."
       ]
      },
      {
       "output_type": "stream",
       "stream": "stdout",
       "text": [
        "\n",
        "360: sleep for 6 secs...."
       ]
      },
      {
       "output_type": "stream",
       "stream": "stdout",
       "text": [
        "\n",
        "361: sleep for 5 secs...."
       ]
      },
      {
       "output_type": "stream",
       "stream": "stdout",
       "text": [
        "\n",
        "362: sleep for 6 secs...."
       ]
      },
      {
       "output_type": "stream",
       "stream": "stdout",
       "text": [
        "\n",
        "363: sleep for 7 secs...."
       ]
      },
      {
       "output_type": "stream",
       "stream": "stdout",
       "text": [
        "\n",
        "364: sleep for 7 secs...."
       ]
      },
      {
       "output_type": "stream",
       "stream": "stdout",
       "text": [
        "\n",
        "365: sleep for 6 secs...."
       ]
      },
      {
       "output_type": "stream",
       "stream": "stdout",
       "text": [
        "\n",
        "366: sleep for 9 secs...."
       ]
      },
      {
       "output_type": "stream",
       "stream": "stdout",
       "text": [
        "\n",
        "367: sleep for 6 secs...."
       ]
      },
      {
       "output_type": "stream",
       "stream": "stdout",
       "text": [
        "\n",
        "368: sleep for 2 secs...."
       ]
      },
      {
       "output_type": "stream",
       "stream": "stdout",
       "text": [
        "\n",
        "369: sleep for 8 secs...."
       ]
      },
      {
       "output_type": "stream",
       "stream": "stdout",
       "text": [
        "\n",
        "370: sleep for 4 secs...."
       ]
      },
      {
       "output_type": "stream",
       "stream": "stdout",
       "text": [
        "\n",
        "371: sleep for 10 secs...."
       ]
      },
      {
       "output_type": "stream",
       "stream": "stdout",
       "text": [
        "\n",
        "372: sleep for 5 secs...."
       ]
      },
      {
       "output_type": "stream",
       "stream": "stdout",
       "text": [
        "\n",
        "373: sleep for 4 secs...."
       ]
      },
      {
       "output_type": "stream",
       "stream": "stdout",
       "text": [
        "\n",
        "374: sleep for 6 secs...."
       ]
      },
      {
       "output_type": "stream",
       "stream": "stdout",
       "text": [
        "\n",
        "375: sleep for 2 secs...."
       ]
      },
      {
       "output_type": "stream",
       "stream": "stdout",
       "text": [
        "\n",
        "376: sleep for 10 secs...."
       ]
      },
      {
       "output_type": "stream",
       "stream": "stdout",
       "text": [
        "\n",
        "377: sleep for 6 secs...."
       ]
      },
      {
       "output_type": "stream",
       "stream": "stdout",
       "text": [
        "\n",
        "378: sleep for 7 secs...."
       ]
      },
      {
       "output_type": "stream",
       "stream": "stdout",
       "text": [
        "\n",
        "379: sleep for 10 secs...."
       ]
      },
      {
       "output_type": "stream",
       "stream": "stdout",
       "text": [
        "\n",
        "380: sleep for 7 secs...."
       ]
      },
      {
       "output_type": "stream",
       "stream": "stdout",
       "text": [
        "\n",
        "381: sleep for 4 secs...."
       ]
      },
      {
       "output_type": "stream",
       "stream": "stdout",
       "text": [
        "\n",
        "382: sleep for 4 secs...."
       ]
      },
      {
       "output_type": "stream",
       "stream": "stdout",
       "text": [
        "\n",
        "383: sleep for 7 secs...."
       ]
      },
      {
       "output_type": "stream",
       "stream": "stdout",
       "text": [
        "\n",
        "384: sleep for 7 secs...."
       ]
      },
      {
       "output_type": "stream",
       "stream": "stdout",
       "text": [
        "\n",
        "IMNP           doesn't exist!"
       ]
      },
      {
       "output_type": "stream",
       "stream": "stdout",
       "text": [
        "\n",
        "385: sleep for 9 secs....\n",
        "386: sleep for 2 secs...."
       ]
      },
      {
       "output_type": "stream",
       "stream": "stdout",
       "text": [
        "\n",
        "387: sleep for 5 secs...."
       ]
      },
      {
       "output_type": "stream",
       "stream": "stdout",
       "text": [
        "\n",
        "388: sleep for 2 secs...."
       ]
      },
      {
       "output_type": "stream",
       "stream": "stdout",
       "text": [
        "\n",
        "389: sleep for 4 secs...."
       ]
      },
      {
       "output_type": "stream",
       "stream": "stdout",
       "text": [
        "\n",
        "390: sleep for 7 secs...."
       ]
      },
      {
       "output_type": "stream",
       "stream": "stdout",
       "text": [
        "\n",
        "391: sleep for 3 secs...."
       ]
      },
      {
       "output_type": "stream",
       "stream": "stdout",
       "text": [
        "\n",
        "392: sleep for 6 secs...."
       ]
      },
      {
       "output_type": "stream",
       "stream": "stdout",
       "text": [
        "\n",
        "393: sleep for 10 secs...."
       ]
      },
      {
       "output_type": "stream",
       "stream": "stdout",
       "text": [
        "\n",
        "394: sleep for 8 secs...."
       ]
      },
      {
       "output_type": "stream",
       "stream": "stdout",
       "text": [
        "\n",
        "395: sleep for 3 secs...."
       ]
      },
      {
       "output_type": "stream",
       "stream": "stdout",
       "text": [
        "\n",
        "396: sleep for 10 secs...."
       ]
      },
      {
       "output_type": "stream",
       "stream": "stdout",
       "text": [
        "\n",
        "397: sleep for 6 secs...."
       ]
      },
      {
       "output_type": "stream",
       "stream": "stdout",
       "text": [
        "\n",
        "398: sleep for 10 secs...."
       ]
      },
      {
       "output_type": "stream",
       "stream": "stdout",
       "text": [
        "\n",
        "399: sleep for 4 secs...."
       ]
      },
      {
       "output_type": "stream",
       "stream": "stdout",
       "text": [
        "\n",
        "400: sleep for 10 secs...."
       ]
      },
      {
       "output_type": "stream",
       "stream": "stdout",
       "text": [
        "\n",
        "401: sleep for 2 secs...."
       ]
      },
      {
       "output_type": "stream",
       "stream": "stdout",
       "text": [
        "\n",
        "402: sleep for 10 secs...."
       ]
      },
      {
       "output_type": "stream",
       "stream": "stdout",
       "text": [
        "\n",
        "403: sleep for 6 secs...."
       ]
      },
      {
       "output_type": "stream",
       "stream": "stdout",
       "text": [
        "\n",
        "404: sleep for 7 secs...."
       ]
      },
      {
       "output_type": "stream",
       "stream": "stdout",
       "text": [
        "\n",
        "405: sleep for 9 secs...."
       ]
      },
      {
       "output_type": "stream",
       "stream": "stdout",
       "text": [
        "\n",
        "406: sleep for 3 secs...."
       ]
      },
      {
       "output_type": "stream",
       "stream": "stdout",
       "text": [
        "\n",
        "407: sleep for 10 secs...."
       ]
      },
      {
       "output_type": "stream",
       "stream": "stdout",
       "text": [
        "\n",
        "408: sleep for 9 secs...."
       ]
      },
      {
       "output_type": "stream",
       "stream": "stdout",
       "text": [
        "\n",
        "409: sleep for 5 secs...."
       ]
      },
      {
       "output_type": "stream",
       "stream": "stdout",
       "text": [
        "\n",
        "410: sleep for 6 secs...."
       ]
      },
      {
       "output_type": "stream",
       "stream": "stdout",
       "text": [
        "\n",
        "411: sleep for 4 secs...."
       ]
      },
      {
       "output_type": "stream",
       "stream": "stdout",
       "text": [
        "\n",
        "412: sleep for 10 secs...."
       ]
      },
      {
       "output_type": "stream",
       "stream": "stdout",
       "text": [
        "\n",
        "413: sleep for 9 secs...."
       ]
      },
      {
       "output_type": "stream",
       "stream": "stdout",
       "text": [
        "\n",
        "414: sleep for 2 secs...."
       ]
      },
      {
       "output_type": "stream",
       "stream": "stdout",
       "text": [
        "\n",
        "415: sleep for 3 secs...."
       ]
      },
      {
       "output_type": "stream",
       "stream": "stdout",
       "text": [
        "\n",
        "416: sleep for 10 secs...."
       ]
      },
      {
       "output_type": "stream",
       "stream": "stdout",
       "text": [
        "\n",
        "417: sleep for 3 secs...."
       ]
      },
      {
       "output_type": "stream",
       "stream": "stdout",
       "text": [
        "\n",
        "418: sleep for 7 secs...."
       ]
      },
      {
       "output_type": "stream",
       "stream": "stdout",
       "text": [
        "\n",
        "419: sleep for 8 secs...."
       ]
      },
      {
       "output_type": "stream",
       "stream": "stdout",
       "text": [
        "\n",
        "420: sleep for 10 secs...."
       ]
      },
      {
       "output_type": "stream",
       "stream": "stdout",
       "text": [
        "\n",
        "421: sleep for 7 secs...."
       ]
      },
      {
       "output_type": "stream",
       "stream": "stdout",
       "text": [
        "\n",
        "422: sleep for 8 secs...."
       ]
      },
      {
       "output_type": "stream",
       "stream": "stdout",
       "text": [
        "\n",
        "423: sleep for 4 secs...."
       ]
      },
      {
       "output_type": "stream",
       "stream": "stdout",
       "text": [
        "\n",
        "424: sleep for 5 secs...."
       ]
      },
      {
       "output_type": "stream",
       "stream": "stdout",
       "text": [
        "\n",
        "425: sleep for 4 secs...."
       ]
      },
      {
       "output_type": "stream",
       "stream": "stdout",
       "text": [
        "\n",
        "426: sleep for 2 secs...."
       ]
      },
      {
       "output_type": "stream",
       "stream": "stdout",
       "text": [
        "\n",
        "427: sleep for 2 secs...."
       ]
      },
      {
       "output_type": "stream",
       "stream": "stdout",
       "text": [
        "\n",
        "428: sleep for 7 secs...."
       ]
      },
      {
       "output_type": "stream",
       "stream": "stdout",
       "text": [
        "\n",
        "429: sleep for 5 secs...."
       ]
      },
      {
       "output_type": "stream",
       "stream": "stdout",
       "text": [
        "\n",
        "430: sleep for 8 secs...."
       ]
      },
      {
       "output_type": "stream",
       "stream": "stdout",
       "text": [
        "\n",
        "431: sleep for 4 secs...."
       ]
      },
      {
       "output_type": "stream",
       "stream": "stdout",
       "text": [
        "\n",
        "432: sleep for 8 secs...."
       ]
      },
      {
       "output_type": "stream",
       "stream": "stdout",
       "text": [
        "\n",
        "KTOVW doesn't exist!"
       ]
      },
      {
       "output_type": "stream",
       "stream": "stdout",
       "text": [
        "\n",
        "433: sleep for 9 secs....\n",
        "434: sleep for 10 secs...."
       ]
      },
      {
       "output_type": "stream",
       "stream": "stdout",
       "text": [
        "\n",
        "435: sleep for 7 secs...."
       ]
      },
      {
       "output_type": "stream",
       "stream": "stdout",
       "text": [
        "\n",
        "436: sleep for 5 secs...."
       ]
      },
      {
       "output_type": "stream",
       "stream": "stdout",
       "text": [
        "\n",
        "437: sleep for 8 secs...."
       ]
      },
      {
       "output_type": "stream",
       "stream": "stdout",
       "text": [
        "\n",
        "438: sleep for 7 secs...."
       ]
      },
      {
       "output_type": "stream",
       "stream": "stdout",
       "text": [
        "\n",
        "439: sleep for 7 secs...."
       ]
      },
      {
       "output_type": "stream",
       "stream": "stdout",
       "text": [
        "\n",
        "440: sleep for 4 secs...."
       ]
      },
      {
       "output_type": "stream",
       "stream": "stdout",
       "text": [
        "\n",
        "441: sleep for 8 secs...."
       ]
      },
      {
       "output_type": "stream",
       "stream": "stdout",
       "text": [
        "\n",
        "442: sleep for 4 secs...."
       ]
      },
      {
       "output_type": "stream",
       "stream": "stdout",
       "text": [
        "\n",
        "443: sleep for 9 secs...."
       ]
      },
      {
       "output_type": "stream",
       "stream": "stdout",
       "text": [
        "\n",
        "444: sleep for 7 secs...."
       ]
      },
      {
       "output_type": "stream",
       "stream": "stdout",
       "text": [
        "\n",
        "445: sleep for 9 secs...."
       ]
      },
      {
       "output_type": "stream",
       "stream": "stdout",
       "text": [
        "\n",
        "446: sleep for 3 secs...."
       ]
      },
      {
       "output_type": "stream",
       "stream": "stdout",
       "text": [
        "\n",
        "447: sleep for 8 secs...."
       ]
      },
      {
       "output_type": "stream",
       "stream": "stdout",
       "text": [
        "\n",
        "448: sleep for 3 secs...."
       ]
      },
      {
       "output_type": "stream",
       "stream": "stdout",
       "text": [
        "\n",
        "449: sleep for 8 secs...."
       ]
      },
      {
       "output_type": "stream",
       "stream": "stdout",
       "text": [
        "\n",
        "450: sleep for 10 secs...."
       ]
      },
      {
       "output_type": "stream",
       "stream": "stdout",
       "text": [
        "\n",
        "451: sleep for 10 secs...."
       ]
      },
      {
       "output_type": "stream",
       "stream": "stdout",
       "text": [
        "\n",
        "452: sleep for 8 secs...."
       ]
      },
      {
       "output_type": "stream",
       "stream": "stdout",
       "text": [
        "\n",
        "453: sleep for 9 secs...."
       ]
      },
      {
       "output_type": "stream",
       "stream": "stdout",
       "text": [
        "\n",
        "454: sleep for 5 secs...."
       ]
      },
      {
       "output_type": "stream",
       "stream": "stdout",
       "text": [
        "\n",
        "455: sleep for 10 secs...."
       ]
      },
      {
       "output_type": "stream",
       "stream": "stdout",
       "text": [
        "\n",
        "456: sleep for 10 secs...."
       ]
      },
      {
       "output_type": "stream",
       "stream": "stdout",
       "text": [
        "\n",
        "457: sleep for 6 secs...."
       ]
      },
      {
       "output_type": "stream",
       "stream": "stdout",
       "text": [
        "\n",
        "458: sleep for 3 secs...."
       ]
      },
      {
       "output_type": "stream",
       "stream": "stdout",
       "text": [
        "\n",
        "459: sleep for 9 secs...."
       ]
      },
      {
       "output_type": "stream",
       "stream": "stdout",
       "text": [
        "\n",
        "460: sleep for 9 secs...."
       ]
      },
      {
       "output_type": "stream",
       "stream": "stdout",
       "text": [
        "\n",
        "461: sleep for 2 secs...."
       ]
      },
      {
       "output_type": "stream",
       "stream": "stdout",
       "text": [
        "\n",
        "462: sleep for 10 secs...."
       ]
      },
      {
       "output_type": "stream",
       "stream": "stdout",
       "text": [
        "\n",
        "463: sleep for 7 secs...."
       ]
      },
      {
       "output_type": "stream",
       "stream": "stdout",
       "text": [
        "\n",
        "464: sleep for 2 secs...."
       ]
      },
      {
       "output_type": "stream",
       "stream": "stdout",
       "text": [
        "\n",
        "465: sleep for 7 secs...."
       ]
      },
      {
       "output_type": "stream",
       "stream": "stdout",
       "text": [
        "\n",
        "466: sleep for 8 secs...."
       ]
      },
      {
       "output_type": "stream",
       "stream": "stdout",
       "text": [
        "\n",
        "467: sleep for 3 secs...."
       ]
      },
      {
       "output_type": "stream",
       "stream": "stdout",
       "text": [
        "\n",
        "468: sleep for 2 secs...."
       ]
      },
      {
       "output_type": "stream",
       "stream": "stdout",
       "text": [
        "\n",
        "469: sleep for 7 secs...."
       ]
      },
      {
       "output_type": "stream",
       "stream": "stdout",
       "text": [
        "\n",
        "470: sleep for 9 secs...."
       ]
      },
      {
       "output_type": "stream",
       "stream": "stdout",
       "text": [
        "\n",
        "471: sleep for 9 secs...."
       ]
      },
      {
       "output_type": "stream",
       "stream": "stdout",
       "text": [
        "\n",
        "472: sleep for 5 secs...."
       ]
      },
      {
       "output_type": "stream",
       "stream": "stdout",
       "text": [
        "\n",
        "MDVXW doesn't exist!"
       ]
      },
      {
       "output_type": "stream",
       "stream": "stdout",
       "text": [
        "\n",
        "473: sleep for 10 secs....\n",
        "474: sleep for 4 secs...."
       ]
      },
      {
       "output_type": "stream",
       "stream": "stdout",
       "text": [
        "\n",
        "475: sleep for 2 secs...."
       ]
      },
      {
       "output_type": "stream",
       "stream": "stdout",
       "text": [
        "\n",
        "476: sleep for 2 secs...."
       ]
      },
      {
       "output_type": "stream",
       "stream": "stdout",
       "text": [
        "\n",
        "477: sleep for 3 secs...."
       ]
      },
      {
       "output_type": "stream",
       "stream": "stdout",
       "text": [
        "\n",
        "478: sleep for 7 secs...."
       ]
      },
      {
       "output_type": "stream",
       "stream": "stdout",
       "text": [
        "\n",
        "479: sleep for 5 secs...."
       ]
      },
      {
       "output_type": "stream",
       "stream": "stdout",
       "text": [
        "\n",
        "480: sleep for 9 secs...."
       ]
      },
      {
       "output_type": "stream",
       "stream": "stdout",
       "text": [
        "\n",
        "MESO doesn't exist!"
       ]
      },
      {
       "output_type": "stream",
       "stream": "stdout",
       "text": [
        "\n",
        "481: sleep for 10 secs....\n",
        "482: sleep for 5 secs...."
       ]
      },
      {
       "output_type": "stream",
       "stream": "stdout",
       "text": [
        "\n",
        "483: sleep for 2 secs...."
       ]
      },
      {
       "output_type": "stream",
       "stream": "stdout",
       "text": [
        "\n",
        "484: sleep for 4 secs...."
       ]
      },
      {
       "output_type": "stream",
       "stream": "stdout",
       "text": [
        "\n",
        "485: sleep for 9 secs...."
       ]
      },
      {
       "output_type": "stream",
       "stream": "stdout",
       "text": [
        "\n",
        "486: sleep for 2 secs...."
       ]
      },
      {
       "output_type": "stream",
       "stream": "stdout",
       "text": [
        "\n",
        "487: sleep for 7 secs...."
       ]
      },
      {
       "output_type": "stream",
       "stream": "stdout",
       "text": [
        "\n",
        "488: sleep for 7 secs...."
       ]
      },
      {
       "output_type": "stream",
       "stream": "stdout",
       "text": [
        "\n",
        "489: sleep for 4 secs...."
       ]
      },
      {
       "output_type": "stream",
       "stream": "stdout",
       "text": [
        "\n",
        "490: sleep for 4 secs...."
       ]
      },
      {
       "output_type": "stream",
       "stream": "stdout",
       "text": [
        "\n",
        "491: sleep for 10 secs...."
       ]
      },
      {
       "output_type": "stream",
       "stream": "stdout",
       "text": [
        "\n",
        "492: sleep for 8 secs...."
       ]
      },
      {
       "output_type": "stream",
       "stream": "stdout",
       "text": [
        "\n",
        "493: sleep for 5 secs...."
       ]
      },
      {
       "output_type": "stream",
       "stream": "stdout",
       "text": [
        "\n",
        "494: sleep for 9 secs...."
       ]
      },
      {
       "output_type": "stream",
       "stream": "stdout",
       "text": [
        "\n",
        "495: sleep for 4 secs...."
       ]
      },
      {
       "output_type": "stream",
       "stream": "stdout",
       "text": [
        "\n",
        "496: sleep for 3 secs...."
       ]
      },
      {
       "output_type": "stream",
       "stream": "stdout",
       "text": [
        "\n",
        "497: sleep for 7 secs...."
       ]
      },
      {
       "output_type": "stream",
       "stream": "stdout",
       "text": [
        "\n",
        "498: sleep for 8 secs...."
       ]
      },
      {
       "output_type": "stream",
       "stream": "stdout",
       "text": [
        "\n",
        "499: sleep for 10 secs...."
       ]
      },
      {
       "output_type": "stream",
       "stream": "stdout",
       "text": [
        "\n",
        "500: sleep for 10 secs...."
       ]
      },
      {
       "output_type": "stream",
       "stream": "stdout",
       "text": [
        "\n",
        "501: sleep for 6 secs...."
       ]
      },
      {
       "output_type": "stream",
       "stream": "stdout",
       "text": [
        "\n",
        "502: sleep for 3 secs...."
       ]
      },
      {
       "output_type": "stream",
       "stream": "stdout",
       "text": [
        "\n",
        "503: sleep for 6 secs...."
       ]
      },
      {
       "output_type": "stream",
       "stream": "stdout",
       "text": [
        "\n",
        "504: sleep for 2 secs...."
       ]
      },
      {
       "output_type": "stream",
       "stream": "stdout",
       "text": [
        "\n",
        "505: sleep for 9 secs...."
       ]
      },
      {
       "output_type": "stream",
       "stream": "stdout",
       "text": [
        "\n",
        "506: sleep for 7 secs...."
       ]
      },
      {
       "output_type": "stream",
       "stream": "stdout",
       "text": [
        "\n",
        "507: sleep for 7 secs...."
       ]
      },
      {
       "output_type": "stream",
       "stream": "stdout",
       "text": [
        "\n",
        "508: sleep for 5 secs...."
       ]
      },
      {
       "output_type": "stream",
       "stream": "stdout",
       "text": [
        "\n",
        "509: sleep for 5 secs...."
       ]
      },
      {
       "output_type": "stream",
       "stream": "stdout",
       "text": [
        "\n",
        "510: sleep for 7 secs...."
       ]
      },
      {
       "output_type": "stream",
       "stream": "stdout",
       "text": [
        "\n",
        "511: sleep for 10 secs...."
       ]
      },
      {
       "output_type": "stream",
       "stream": "stdout",
       "text": [
        "\n",
        "512: sleep for 2 secs...."
       ]
      },
      {
       "output_type": "stream",
       "stream": "stdout",
       "text": [
        "\n",
        "513: sleep for 10 secs...."
       ]
      },
      {
       "output_type": "stream",
       "stream": "stdout",
       "text": [
        "\n",
        "514: sleep for 2 secs...."
       ]
      },
      {
       "output_type": "stream",
       "stream": "stdout",
       "text": [
        "\n",
        "515: sleep for 10 secs...."
       ]
      },
      {
       "output_type": "stream",
       "stream": "stdout",
       "text": [
        "\n",
        "516: sleep for 8 secs...."
       ]
      },
      {
       "output_type": "stream",
       "stream": "stdout",
       "text": [
        "\n",
        "517: sleep for 6 secs...."
       ]
      },
      {
       "output_type": "stream",
       "stream": "stdout",
       "text": [
        "\n",
        "518: sleep for 6 secs...."
       ]
      },
      {
       "output_type": "stream",
       "stream": "stdout",
       "text": [
        "\n",
        "519: sleep for 4 secs...."
       ]
      },
      {
       "output_type": "stream",
       "stream": "stdout",
       "text": [
        "\n",
        "520: sleep for 8 secs...."
       ]
      },
      {
       "output_type": "stream",
       "stream": "stdout",
       "text": [
        "\n",
        "NUROW doesn't exist!"
       ]
      },
      {
       "output_type": "stream",
       "stream": "stdout",
       "text": [
        "\n",
        "521: sleep for 5 secs....\n",
        "522: sleep for 6 secs...."
       ]
      },
      {
       "output_type": "stream",
       "stream": "stdout",
       "text": [
        "\n",
        "523: sleep for 5 secs...."
       ]
      },
      {
       "output_type": "stream",
       "stream": "stdout",
       "text": [
        "\n",
        "524: sleep for 8 secs...."
       ]
      },
      {
       "output_type": "stream",
       "stream": "stdout",
       "text": [
        "\n",
        "525: sleep for 7 secs...."
       ]
      },
      {
       "output_type": "stream",
       "stream": "stdout",
       "text": [
        "\n",
        "526: sleep for 8 secs...."
       ]
      },
      {
       "output_type": "stream",
       "stream": "stdout",
       "text": [
        "\n",
        "527: sleep for 4 secs...."
       ]
      },
      {
       "output_type": "stream",
       "stream": "stdout",
       "text": [
        "\n",
        "528: sleep for 4 secs...."
       ]
      },
      {
       "output_type": "stream",
       "stream": "stdout",
       "text": [
        "\n",
        "529: sleep for 5 secs...."
       ]
      },
      {
       "output_type": "stream",
       "stream": "stdout",
       "text": [
        "\n",
        "530: sleep for 7 secs...."
       ]
      },
      {
       "output_type": "stream",
       "stream": "stdout",
       "text": [
        "\n",
        "531: sleep for 8 secs...."
       ]
      },
      {
       "output_type": "stream",
       "stream": "stdout",
       "text": [
        "\n",
        "532: sleep for 4 secs...."
       ]
      },
      {
       "output_type": "stream",
       "stream": "stdout",
       "text": [
        "\n",
        "533: sleep for 8 secs...."
       ]
      },
      {
       "output_type": "stream",
       "stream": "stdout",
       "text": [
        "\n",
        "534: sleep for 9 secs...."
       ]
      },
      {
       "output_type": "stream",
       "stream": "stdout",
       "text": [
        "\n",
        "535: sleep for 6 secs...."
       ]
      },
      {
       "output_type": "stream",
       "stream": "stdout",
       "text": [
        "\n",
        "536: sleep for 7 secs...."
       ]
      },
      {
       "output_type": "stream",
       "stream": "stdout",
       "text": [
        "\n",
        "537: sleep for 9 secs...."
       ]
      },
      {
       "output_type": "stream",
       "stream": "stdout",
       "text": [
        "\n",
        "538: sleep for 9 secs...."
       ]
      },
      {
       "output_type": "stream",
       "stream": "stdout",
       "text": [
        "\n",
        "539: sleep for 2 secs...."
       ]
      },
      {
       "output_type": "stream",
       "stream": "stdout",
       "text": [
        "\n",
        "540: sleep for 10 secs...."
       ]
      },
      {
       "output_type": "stream",
       "stream": "stdout",
       "text": [
        "\n",
        "541: sleep for 5 secs...."
       ]
      },
      {
       "output_type": "stream",
       "stream": "stdout",
       "text": [
        "\n",
        "542: sleep for 10 secs...."
       ]
      },
      {
       "output_type": "stream",
       "stream": "stdout",
       "text": [
        "\n",
        "543: sleep for 10 secs...."
       ]
      },
      {
       "output_type": "stream",
       "stream": "stdout",
       "text": [
        "\n",
        "544: sleep for 3 secs...."
       ]
      },
      {
       "output_type": "stream",
       "stream": "stdout",
       "text": [
        "\n",
        "OCLSW doesn't exist!"
       ]
      },
      {
       "output_type": "stream",
       "stream": "stdout",
       "text": [
        "\n",
        "545: sleep for 3 secs....\n",
        "546: sleep for 2 secs...."
       ]
      },
      {
       "output_type": "stream",
       "stream": "stdout",
       "text": [
        "\n",
        "547: sleep for 9 secs...."
       ]
      },
      {
       "output_type": "stream",
       "stream": "stdout",
       "text": [
        "\n",
        "548: sleep for 10 secs...."
       ]
      },
      {
       "output_type": "stream",
       "stream": "stdout",
       "text": [
        "\n",
        "549: sleep for 4 secs...."
       ]
      },
      {
       "output_type": "stream",
       "stream": "stdout",
       "text": [
        "\n",
        "550: sleep for 2 secs...."
       ]
      },
      {
       "output_type": "stream",
       "stream": "stdout",
       "text": [
        "\n",
        "551: sleep for 4 secs...."
       ]
      },
      {
       "output_type": "stream",
       "stream": "stdout",
       "text": [
        "\n",
        "552: sleep for 8 secs...."
       ]
      },
      {
       "output_type": "stream",
       "stream": "stdout",
       "text": [
        "\n",
        "553: sleep for 8 secs...."
       ]
      },
      {
       "output_type": "stream",
       "stream": "stdout",
       "text": [
        "\n",
        "554: sleep for 4 secs...."
       ]
      },
      {
       "output_type": "stream",
       "stream": "stdout",
       "text": [
        "\n",
        "OPXAW doesn't exist!"
       ]
      },
      {
       "output_type": "stream",
       "stream": "stdout",
       "text": [
        "\n",
        "555: sleep for 10 secs....\n",
        "556: sleep for 3 secs...."
       ]
      },
      {
       "output_type": "stream",
       "stream": "stdout",
       "text": [
        "\n",
        "OPGNW doesn't exist!"
       ]
      },
      {
       "output_type": "stream",
       "stream": "stdout",
       "text": [
        "\n",
        "557: sleep for 9 secs....\n",
        "558: sleep for 3 secs...."
       ]
      },
      {
       "output_type": "stream",
       "stream": "stdout",
       "text": [
        "\n",
        "559: sleep for 2 secs...."
       ]
      },
      {
       "output_type": "stream",
       "stream": "stdout",
       "text": [
        "\n",
        "560: sleep for 9 secs...."
       ]
      },
      {
       "output_type": "stream",
       "stream": "stdout",
       "text": [
        "\n",
        "561: sleep for 9 secs...."
       ]
      },
      {
       "output_type": "stream",
       "stream": "stdout",
       "text": [
        "\n",
        "562: sleep for 4 secs...."
       ]
      },
      {
       "output_type": "stream",
       "stream": "stdout",
       "text": [
        "\n",
        "563: sleep for 5 secs...."
       ]
      },
      {
       "output_type": "stream",
       "stream": "stdout",
       "text": [
        "\n",
        "564: sleep for 5 secs...."
       ]
      },
      {
       "output_type": "stream",
       "stream": "stdout",
       "text": [
        "\n",
        "565: sleep for 9 secs...."
       ]
      },
      {
       "output_type": "stream",
       "stream": "stdout",
       "text": [
        "\n",
        "566: sleep for 3 secs...."
       ]
      },
      {
       "output_type": "stream",
       "stream": "stdout",
       "text": [
        "\n",
        "567: sleep for 2 secs...."
       ]
      },
      {
       "output_type": "stream",
       "stream": "stdout",
       "text": [
        "\n",
        "568: sleep for 5 secs...."
       ]
      },
      {
       "output_type": "stream",
       "stream": "stdout",
       "text": [
        "\n",
        "569: sleep for 4 secs...."
       ]
      },
      {
       "output_type": "stream",
       "stream": "stdout",
       "text": [
        "\n",
        "570: sleep for 3 secs...."
       ]
      },
      {
       "output_type": "stream",
       "stream": "stdout",
       "text": [
        "\n",
        "571: sleep for 5 secs...."
       ]
      },
      {
       "output_type": "stream",
       "stream": "stdout",
       "text": [
        "\n",
        "572: sleep for 4 secs...."
       ]
      },
      {
       "output_type": "stream",
       "stream": "stdout",
       "text": [
        "\n",
        "573: sleep for 4 secs...."
       ]
      },
      {
       "output_type": "stream",
       "stream": "stdout",
       "text": [
        "\n",
        "574: sleep for 4 secs...."
       ]
      },
      {
       "output_type": "stream",
       "stream": "stdout",
       "text": [
        "\n",
        "575: sleep for 8 secs...."
       ]
      },
      {
       "output_type": "stream",
       "stream": "stdout",
       "text": [
        "\n",
        "576: sleep for 3 secs...."
       ]
      },
      {
       "output_type": "stream",
       "stream": "stdout",
       "text": [
        "\n",
        "577: sleep for 6 secs...."
       ]
      },
      {
       "output_type": "stream",
       "stream": "stdout",
       "text": [
        "\n",
        "578: sleep for 9 secs...."
       ]
      },
      {
       "output_type": "stream",
       "stream": "stdout",
       "text": [
        "\n",
        "579: sleep for 7 secs...."
       ]
      },
      {
       "output_type": "stream",
       "stream": "stdout",
       "text": [
        "\n",
        "580: sleep for 9 secs...."
       ]
      },
      {
       "output_type": "stream",
       "stream": "stdout",
       "text": [
        "\n",
        "581: sleep for 5 secs...."
       ]
      },
      {
       "output_type": "stream",
       "stream": "stdout",
       "text": [
        "\n",
        "582: sleep for 7 secs...."
       ]
      },
      {
       "output_type": "stream",
       "stream": "stdout",
       "text": [
        "\n",
        "583: sleep for 8 secs...."
       ]
      },
      {
       "output_type": "stream",
       "stream": "stdout",
       "text": [
        "\n",
        "584: sleep for 10 secs...."
       ]
      },
      {
       "output_type": "stream",
       "stream": "stdout",
       "text": [
        "\n",
        "585: sleep for 6 secs...."
       ]
      },
      {
       "output_type": "stream",
       "stream": "stdout",
       "text": [
        "\n",
        "PRSNW doesn't exist!"
       ]
      },
      {
       "output_type": "stream",
       "stream": "stdout",
       "text": [
        "\n",
        "586: sleep for 3 secs....\n",
        "587: sleep for 6 secs...."
       ]
      },
      {
       "output_type": "stream",
       "stream": "stdout",
       "text": [
        "\n",
        "588: sleep for 2 secs...."
       ]
      },
      {
       "output_type": "stream",
       "stream": "stdout",
       "text": [
        "\n",
        "589: sleep for 9 secs...."
       ]
      },
      {
       "output_type": "stream",
       "stream": "stdout",
       "text": [
        "\n",
        "590: sleep for 7 secs...."
       ]
      },
      {
       "output_type": "stream",
       "stream": "stdout",
       "text": [
        "\n",
        "591: sleep for 10 secs...."
       ]
      },
      {
       "output_type": "stream",
       "stream": "stdout",
       "text": [
        "\n",
        "592: sleep for 6 secs...."
       ]
      },
      {
       "output_type": "stream",
       "stream": "stdout",
       "text": [
        "\n",
        "593: sleep for 4 secs...."
       ]
      },
      {
       "output_type": "stream",
       "stream": "stdout",
       "text": [
        "\n",
        "594: sleep for 10 secs...."
       ]
      },
      {
       "output_type": "stream",
       "stream": "stdout",
       "text": [
        "\n",
        "595: sleep for 7 secs...."
       ]
      },
      {
       "output_type": "stream",
       "stream": "stdout",
       "text": [
        "\n",
        "596: sleep for 7 secs...."
       ]
      },
      {
       "output_type": "stream",
       "stream": "stdout",
       "text": [
        "\n",
        "597: sleep for 4 secs...."
       ]
      },
      {
       "output_type": "stream",
       "stream": "stdout",
       "text": [
        "\n",
        "598: sleep for 8 secs...."
       ]
      },
      {
       "output_type": "stream",
       "stream": "stdout",
       "text": [
        "\n",
        "599: sleep for 5 secs...."
       ]
      },
      {
       "output_type": "stream",
       "stream": "stdout",
       "text": [
        "\n",
        "600: sleep for 3 secs...."
       ]
      },
      {
       "output_type": "stream",
       "stream": "stdout",
       "text": [
        "\n",
        "601: sleep for 3 secs...."
       ]
      },
      {
       "output_type": "stream",
       "stream": "stdout",
       "text": [
        "\n",
        "602: sleep for 2 secs...."
       ]
      },
      {
       "output_type": "stream",
       "stream": "stdout",
       "text": [
        "\n",
        "603: sleep for 6 secs...."
       ]
      },
      {
       "output_type": "stream",
       "stream": "stdout",
       "text": [
        "\n",
        "604: sleep for 8 secs...."
       ]
      },
      {
       "output_type": "stream",
       "stream": "stdout",
       "text": [
        "\n",
        "605: sleep for 6 secs...."
       ]
      },
      {
       "output_type": "stream",
       "stream": "stdout",
       "text": [
        "\n",
        "606: sleep for 2 secs...."
       ]
      },
      {
       "output_type": "stream",
       "stream": "stdout",
       "text": [
        "\n",
        "607: sleep for 4 secs...."
       ]
      },
      {
       "output_type": "stream",
       "stream": "stdout",
       "text": [
        "\n",
        "608: sleep for 10 secs...."
       ]
      },
      {
       "output_type": "stream",
       "stream": "stdout",
       "text": [
        "\n",
        "609: sleep for 3 secs...."
       ]
      },
      {
       "output_type": "stream",
       "stream": "stdout",
       "text": [
        "\n",
        "610: sleep for 7 secs...."
       ]
      },
      {
       "output_type": "stream",
       "stream": "stdout",
       "text": [
        "\n",
        "611: sleep for 2 secs...."
       ]
      },
      {
       "output_type": "stream",
       "stream": "stdout",
       "text": [
        "\n",
        "612: sleep for 3 secs...."
       ]
      },
      {
       "output_type": "stream",
       "stream": "stdout",
       "text": [
        "\n",
        "613: sleep for 9 secs...."
       ]
      },
      {
       "output_type": "stream",
       "stream": "stdout",
       "text": [
        "\n",
        "614: sleep for 4 secs...."
       ]
      },
      {
       "output_type": "stream",
       "stream": "stdout",
       "text": [
        "\n",
        "615: sleep for 2 secs...."
       ]
      },
      {
       "output_type": "stream",
       "stream": "stdout",
       "text": [
        "\n",
        "616: sleep for 8 secs...."
       ]
      },
      {
       "output_type": "stream",
       "stream": "stdout",
       "text": [
        "\n",
        "617: sleep for 6 secs...."
       ]
      },
      {
       "output_type": "stream",
       "stream": "stdout",
       "text": [
        "\n",
        "618: sleep for 2 secs...."
       ]
      },
      {
       "output_type": "stream",
       "stream": "stdout",
       "text": [
        "\n",
        "619: sleep for 8 secs...."
       ]
      },
      {
       "output_type": "stream",
       "stream": "stdout",
       "text": [
        "\n",
        "620: sleep for 8 secs...."
       ]
      },
      {
       "output_type": "stream",
       "stream": "stdout",
       "text": [
        "\n",
        "621: sleep for 4 secs...."
       ]
      },
      {
       "output_type": "stream",
       "stream": "stdout",
       "text": [
        "\n",
        "622: sleep for 5 secs...."
       ]
      },
      {
       "output_type": "stream",
       "stream": "stdout",
       "text": [
        "\n",
        "623: sleep for 3 secs...."
       ]
      },
      {
       "output_type": "stream",
       "stream": "stdout",
       "text": [
        "\n",
        "624: sleep for 7 secs...."
       ]
      },
      {
       "output_type": "stream",
       "stream": "stdout",
       "text": [
        "\n",
        "625: sleep for 4 secs...."
       ]
      },
      {
       "output_type": "stream",
       "stream": "stdout",
       "text": [
        "\n",
        "626: sleep for 5 secs...."
       ]
      },
      {
       "output_type": "stream",
       "stream": "stdout",
       "text": [
        "\n",
        "627: sleep for 8 secs...."
       ]
      },
      {
       "output_type": "stream",
       "stream": "stdout",
       "text": [
        "\n",
        "628: sleep for 4 secs...."
       ]
      },
      {
       "output_type": "stream",
       "stream": "stdout",
       "text": [
        "\n",
        "629: sleep for 4 secs...."
       ]
      },
      {
       "output_type": "stream",
       "stream": "stdout",
       "text": [
        "\n",
        "630: sleep for 3 secs...."
       ]
      },
      {
       "output_type": "stream",
       "stream": "stdout",
       "text": [
        "\n",
        "631: sleep for 4 secs...."
       ]
      },
      {
       "output_type": "stream",
       "stream": "stdout",
       "text": [
        "\n",
        "632: sleep for 5 secs...."
       ]
      },
      {
       "output_type": "stream",
       "stream": "stdout",
       "text": [
        "\n",
        "633: sleep for 10 secs...."
       ]
      },
      {
       "output_type": "stream",
       "stream": "stdout",
       "text": [
        "\n",
        "RPRXW doesn't exist!"
       ]
      },
      {
       "output_type": "stream",
       "stream": "stdout",
       "text": [
        "\n",
        "634: sleep for 2 secs....\n",
        "RPRXZ doesn't exist!"
       ]
      },
      {
       "output_type": "stream",
       "stream": "stdout",
       "text": [
        "\n",
        "635: sleep for 3 secs....\n",
        "636: sleep for 8 secs...."
       ]
      },
      {
       "output_type": "stream",
       "stream": "stdout",
       "text": [
        "\n",
        "637: sleep for 2 secs...."
       ]
      },
      {
       "output_type": "stream",
       "stream": "stdout",
       "text": [
        "\n",
        "638: sleep for 3 secs...."
       ]
      },
      {
       "output_type": "stream",
       "stream": "stdout",
       "text": [
        "\n",
        "639: sleep for 9 secs...."
       ]
      },
      {
       "output_type": "stream",
       "stream": "stdout",
       "text": [
        "\n",
        "640: sleep for 10 secs...."
       ]
      },
      {
       "output_type": "stream",
       "stream": "stdout",
       "text": [
        "\n",
        "641: sleep for 2 secs...."
       ]
      },
      {
       "output_type": "stream",
       "stream": "stdout",
       "text": [
        "\n",
        "642: sleep for 10 secs...."
       ]
      },
      {
       "output_type": "stream",
       "stream": "stdout",
       "text": [
        "\n",
        "643: sleep for 6 secs...."
       ]
      },
      {
       "output_type": "stream",
       "stream": "stdout",
       "text": [
        "\n",
        "644: sleep for 8 secs...."
       ]
      },
      {
       "output_type": "stream",
       "stream": "stdout",
       "text": [
        "\n",
        "645: sleep for 9 secs...."
       ]
      },
      {
       "output_type": "stream",
       "stream": "stdout",
       "text": [
        "\n",
        "646: sleep for 5 secs...."
       ]
      },
      {
       "output_type": "stream",
       "stream": "stdout",
       "text": [
        "\n",
        "647: sleep for 6 secs...."
       ]
      },
      {
       "output_type": "stream",
       "stream": "stdout",
       "text": [
        "\n",
        "648: sleep for 7 secs...."
       ]
      },
      {
       "output_type": "stream",
       "stream": "stdout",
       "text": [
        "\n",
        "649: sleep for 9 secs...."
       ]
      },
      {
       "output_type": "stream",
       "stream": "stdout",
       "text": [
        "\n",
        "650: sleep for 4 secs...."
       ]
      },
      {
       "output_type": "stream",
       "stream": "stdout",
       "text": [
        "\n",
        "651: sleep for 2 secs...."
       ]
      },
      {
       "output_type": "stream",
       "stream": "stdout",
       "text": [
        "\n",
        "652: sleep for 4 secs...."
       ]
      },
      {
       "output_type": "stream",
       "stream": "stdout",
       "text": [
        "\n",
        "653: sleep for 4 secs...."
       ]
      },
      {
       "output_type": "stream",
       "stream": "stdout",
       "text": [
        "\n",
        "654: sleep for 7 secs...."
       ]
      },
      {
       "output_type": "stream",
       "stream": "stdout",
       "text": [
        "\n",
        "655: sleep for 10 secs...."
       ]
      },
      {
       "output_type": "stream",
       "stream": "stdout",
       "text": [
        "\n",
        "656: sleep for 9 secs...."
       ]
      },
      {
       "output_type": "stream",
       "stream": "stdout",
       "text": [
        "\n",
        "657: sleep for 4 secs...."
       ]
      },
      {
       "output_type": "stream",
       "stream": "stdout",
       "text": [
        "\n",
        "658: sleep for 6 secs...."
       ]
      },
      {
       "output_type": "stream",
       "stream": "stdout",
       "text": [
        "\n",
        "659: sleep for 5 secs...."
       ]
      },
      {
       "output_type": "stream",
       "stream": "stdout",
       "text": [
        "\n",
        "660: sleep for 3 secs...."
       ]
      },
      {
       "output_type": "stream",
       "stream": "stdout",
       "text": [
        "\n",
        "661: sleep for 9 secs...."
       ]
      },
      {
       "output_type": "stream",
       "stream": "stdout",
       "text": [
        "\n",
        "662: sleep for 8 secs...."
       ]
      },
      {
       "output_type": "stream",
       "stream": "stdout",
       "text": [
        "\n",
        "663: sleep for 10 secs...."
       ]
      },
      {
       "output_type": "stream",
       "stream": "stdout",
       "text": [
        "\n",
        "664: sleep for 8 secs...."
       ]
      },
      {
       "output_type": "stream",
       "stream": "stdout",
       "text": [
        "\n",
        "665: sleep for 10 secs...."
       ]
      },
      {
       "output_type": "stream",
       "stream": "stdout",
       "text": [
        "\n",
        "666: sleep for 7 secs...."
       ]
      },
      {
       "output_type": "stream",
       "stream": "stdout",
       "text": [
        "\n",
        "667: sleep for 2 secs...."
       ]
      },
      {
       "output_type": "stream",
       "stream": "stdout",
       "text": [
        "\n",
        "668: sleep for 9 secs...."
       ]
      },
      {
       "output_type": "stream",
       "stream": "stdout",
       "text": [
        "\n",
        "669: sleep for 9 secs...."
       ]
      },
      {
       "output_type": "stream",
       "stream": "stdout",
       "text": [
        "\n",
        "SKLNU doesn't exist!"
       ]
      },
      {
       "output_type": "stream",
       "stream": "stdout",
       "text": [
        "\n",
        "670: sleep for 9 secs....\n",
        "671: sleep for 9 secs...."
       ]
      },
      {
       "output_type": "stream",
       "stream": "stdout",
       "text": [
        "\n",
        "672: sleep for 2 secs...."
       ]
      },
      {
       "output_type": "stream",
       "stream": "stdout",
       "text": [
        "\n",
        "673: sleep for 2 secs...."
       ]
      },
      {
       "output_type": "stream",
       "stream": "stdout",
       "text": [
        "\n",
        "674: sleep for 3 secs...."
       ]
      },
      {
       "output_type": "stream",
       "stream": "stdout",
       "text": [
        "\n",
        "675: sleep for 10 secs...."
       ]
      },
      {
       "output_type": "stream",
       "stream": "stdout",
       "text": [
        "\n",
        "676: sleep for 10 secs...."
       ]
      },
      {
       "output_type": "stream",
       "stream": "stdout",
       "text": [
        "\n",
        "677: sleep for 5 secs...."
       ]
      },
      {
       "output_type": "stream",
       "stream": "stdout",
       "text": [
        "\n",
        "678: sleep for 9 secs...."
       ]
      },
      {
       "output_type": "stream",
       "stream": "stdout",
       "text": [
        "\n",
        "679: sleep for 8 secs...."
       ]
      },
      {
       "output_type": "stream",
       "stream": "stdout",
       "text": [
        "\n",
        "680: sleep for 8 secs...."
       ]
      },
      {
       "output_type": "stream",
       "stream": "stdout",
       "text": [
        "\n",
        "681: sleep for 9 secs...."
       ]
      },
      {
       "output_type": "stream",
       "stream": "stdout",
       "text": [
        "\n",
        "682: sleep for 3 secs...."
       ]
      },
      {
       "output_type": "stream",
       "stream": "stdout",
       "text": [
        "\n",
        "683: sleep for 7 secs...."
       ]
      },
      {
       "output_type": "stream",
       "stream": "stdout",
       "text": [
        "\n",
        "684: sleep for 5 secs...."
       ]
      },
      {
       "output_type": "stream",
       "stream": "stdout",
       "text": [
        "\n",
        "685: sleep for 9 secs...."
       ]
      },
      {
       "output_type": "stream",
       "stream": "stdout",
       "text": [
        "\n",
        "686: sleep for 6 secs...."
       ]
      },
      {
       "output_type": "stream",
       "stream": "stdout",
       "text": [
        "\n",
        "687: sleep for 4 secs...."
       ]
      },
      {
       "output_type": "stream",
       "stream": "stdout",
       "text": [
        "\n",
        "688: sleep for 5 secs...."
       ]
      },
      {
       "output_type": "stream",
       "stream": "stdout",
       "text": [
        "\n",
        "689: sleep for 10 secs...."
       ]
      },
      {
       "output_type": "stream",
       "stream": "stdout",
       "text": [
        "\n",
        "690: sleep for 8 secs...."
       ]
      },
      {
       "output_type": "stream",
       "stream": "stdout",
       "text": [
        "\n",
        "691: sleep for 8 secs...."
       ]
      },
      {
       "output_type": "stream",
       "stream": "stdout",
       "text": [
        "\n",
        "692: sleep for 10 secs...."
       ]
      },
      {
       "output_type": "stream",
       "stream": "stdout",
       "text": [
        "\n",
        "693: sleep for 9 secs...."
       ]
      },
      {
       "output_type": "stream",
       "stream": "stdout",
       "text": [
        "\n",
        "694: sleep for 10 secs...."
       ]
      },
      {
       "output_type": "stream",
       "stream": "stdout",
       "text": [
        "\n",
        "695: sleep for 8 secs...."
       ]
      },
      {
       "output_type": "stream",
       "stream": "stdout",
       "text": [
        "\n",
        "696: sleep for 2 secs...."
       ]
      },
      {
       "output_type": "stream",
       "stream": "stdout",
       "text": [
        "\n",
        "697: sleep for 8 secs...."
       ]
      },
      {
       "output_type": "stream",
       "stream": "stdout",
       "text": [
        "\n",
        "698: sleep for 6 secs...."
       ]
      },
      {
       "output_type": "stream",
       "stream": "stdout",
       "text": [
        "\n",
        "699: sleep for 8 secs...."
       ]
      },
      {
       "output_type": "stream",
       "stream": "stdout",
       "text": [
        "\n",
        "700: sleep for 7 secs...."
       ]
      },
      {
       "output_type": "stream",
       "stream": "stdout",
       "text": [
        "\n",
        "701: sleep for 3 secs...."
       ]
      },
      {
       "output_type": "stream",
       "stream": "stdout",
       "text": [
        "\n",
        "702: sleep for 7 secs...."
       ]
      },
      {
       "output_type": "stream",
       "stream": "stdout",
       "text": [
        "\n",
        "703: sleep for 6 secs...."
       ]
      },
      {
       "output_type": "stream",
       "stream": "stdout",
       "text": [
        "\n",
        "704: sleep for 10 secs...."
       ]
      },
      {
       "output_type": "stream",
       "stream": "stdout",
       "text": [
        "\n",
        "705: sleep for 10 secs...."
       ]
      },
      {
       "output_type": "stream",
       "stream": "stdout",
       "text": [
        "\n",
        "706: sleep for 9 secs...."
       ]
      },
      {
       "output_type": "stream",
       "stream": "stdout",
       "text": [
        "\n",
        "707: sleep for 8 secs...."
       ]
      },
      {
       "output_type": "stream",
       "stream": "stdout",
       "text": [
        "\n",
        "708: sleep for 8 secs...."
       ]
      },
      {
       "output_type": "stream",
       "stream": "stdout",
       "text": [
        "\n",
        "709: sleep for 7 secs...."
       ]
      },
      {
       "output_type": "stream",
       "stream": "stdout",
       "text": [
        "\n",
        "710: sleep for 9 secs...."
       ]
      },
      {
       "output_type": "stream",
       "stream": "stdout",
       "text": [
        "\n",
        "711: sleep for 6 secs...."
       ]
      },
      {
       "output_type": "stream",
       "stream": "stdout",
       "text": [
        "\n",
        "712: sleep for 5 secs...."
       ]
      },
      {
       "output_type": "stream",
       "stream": "stdout",
       "text": [
        "\n",
        "713: sleep for 9 secs...."
       ]
      },
      {
       "output_type": "stream",
       "stream": "stdout",
       "text": [
        "\n",
        "714: sleep for 9 secs...."
       ]
      },
      {
       "output_type": "stream",
       "stream": "stdout",
       "text": [
        "\n",
        "715: sleep for 10 secs...."
       ]
      },
      {
       "output_type": "stream",
       "stream": "stdout",
       "text": [
        "\n",
        "716: sleep for 8 secs...."
       ]
      },
      {
       "output_type": "stream",
       "stream": "stdout",
       "text": [
        "\n",
        "717: sleep for 10 secs...."
       ]
      },
      {
       "output_type": "stream",
       "stream": "stdout",
       "text": [
        "\n",
        "718: sleep for 6 secs...."
       ]
      },
      {
       "output_type": "stream",
       "stream": "stdout",
       "text": [
        "\n",
        "719: sleep for 5 secs...."
       ]
      },
      {
       "output_type": "stream",
       "stream": "stdout",
       "text": [
        "\n",
        "720: sleep for 4 secs...."
       ]
      },
      {
       "output_type": "stream",
       "stream": "stdout",
       "text": [
        "\n",
        "721: sleep for 9 secs...."
       ]
      },
      {
       "output_type": "stream",
       "stream": "stdout",
       "text": [
        "\n",
        "722: sleep for 10 secs...."
       ]
      },
      {
       "output_type": "stream",
       "stream": "stdout",
       "text": [
        "\n",
        "723: sleep for 7 secs...."
       ]
      },
      {
       "output_type": "stream",
       "stream": "stdout",
       "text": [
        "\n",
        "724: sleep for 4 secs...."
       ]
      },
      {
       "output_type": "stream",
       "stream": "stdout",
       "text": [
        "\n",
        "725: sleep for 5 secs...."
       ]
      },
      {
       "output_type": "stream",
       "stream": "stdout",
       "text": [
        "\n",
        "726: sleep for 7 secs...."
       ]
      },
      {
       "output_type": "stream",
       "stream": "stdout",
       "text": [
        "\n",
        "727: sleep for 5 secs...."
       ]
      },
      {
       "output_type": "stream",
       "stream": "stdout",
       "text": [
        "\n",
        "728: sleep for 5 secs...."
       ]
      },
      {
       "output_type": "stream",
       "stream": "stdout",
       "text": [
        "\n",
        "729: sleep for 2 secs...."
       ]
      },
      {
       "output_type": "stream",
       "stream": "stdout",
       "text": [
        "\n",
        "730: sleep for 8 secs...."
       ]
      },
      {
       "output_type": "stream",
       "stream": "stdout",
       "text": [
        "\n",
        "731: sleep for 9 secs...."
       ]
      },
      {
       "output_type": "stream",
       "stream": "stdout",
       "text": [
        "\n",
        "732: sleep for 4 secs...."
       ]
      },
      {
       "output_type": "stream",
       "stream": "stdout",
       "text": [
        "\n",
        "733: sleep for 5 secs...."
       ]
      },
      {
       "output_type": "stream",
       "stream": "stdout",
       "text": [
        "\n",
        "734: sleep for 10 secs...."
       ]
      },
      {
       "output_type": "stream",
       "stream": "stdout",
       "text": [
        "\n",
        "735: sleep for 10 secs...."
       ]
      },
      {
       "output_type": "stream",
       "stream": "stdout",
       "text": [
        "\n",
        "736: sleep for 8 secs...."
       ]
      },
      {
       "output_type": "stream",
       "stream": "stdout",
       "text": [
        "\n",
        "737: sleep for 9 secs...."
       ]
      },
      {
       "output_type": "stream",
       "stream": "stdout",
       "text": [
        "\n",
        "738: sleep for 6 secs...."
       ]
      },
      {
       "output_type": "stream",
       "stream": "stdout",
       "text": [
        "\n",
        "739: sleep for 8 secs...."
       ]
      },
      {
       "output_type": "stream",
       "stream": "stdout",
       "text": [
        "\n",
        "740: sleep for 9 secs...."
       ]
      },
      {
       "output_type": "stream",
       "stream": "stdout",
       "text": [
        "\n",
        "741: sleep for 3 secs...."
       ]
      },
      {
       "output_type": "stream",
       "stream": "stdout",
       "text": [
        "\n",
        "742: sleep for 5 secs...."
       ]
      },
      {
       "output_type": "stream",
       "stream": "stdout",
       "text": [
        "\n",
        "743: sleep for 2 secs...."
       ]
      },
      {
       "output_type": "stream",
       "stream": "stdout",
       "text": [
        "\n",
        "744: sleep for 5 secs...."
       ]
      },
      {
       "output_type": "stream",
       "stream": "stdout",
       "text": [
        "\n",
        "745: sleep for 7 secs...."
       ]
      },
      {
       "output_type": "stream",
       "stream": "stdout",
       "text": [
        "\n",
        "746: sleep for 7 secs...."
       ]
      },
      {
       "output_type": "stream",
       "stream": "stdout",
       "text": [
        "\n",
        "747: sleep for 10 secs...."
       ]
      },
      {
       "output_type": "stream",
       "stream": "stdout",
       "text": [
        "\n",
        "748: sleep for 8 secs...."
       ]
      },
      {
       "output_type": "stream",
       "stream": "stdout",
       "text": [
        "\n",
        "749: sleep for 7 secs...."
       ]
      },
      {
       "output_type": "stream",
       "stream": "stdout",
       "text": [
        "\n",
        "750: sleep for 9 secs...."
       ]
      },
      {
       "output_type": "stream",
       "stream": "stdout",
       "text": [
        "\n",
        "751: sleep for 7 secs...."
       ]
      },
      {
       "output_type": "stream",
       "stream": "stdout",
       "text": [
        "\n",
        "752: sleep for 8 secs...."
       ]
      },
      {
       "output_type": "stream",
       "stream": "stdout",
       "text": [
        "\n",
        "753: sleep for 10 secs...."
       ]
      },
      {
       "output_type": "stream",
       "stream": "stdout",
       "text": [
        "\n",
        "754: sleep for 2 secs...."
       ]
      },
      {
       "output_type": "stream",
       "stream": "stdout",
       "text": [
        "\n",
        "755: sleep for 4 secs...."
       ]
      },
      {
       "output_type": "stream",
       "stream": "stdout",
       "text": [
        "\n",
        "756: sleep for 3 secs...."
       ]
      },
      {
       "output_type": "stream",
       "stream": "stdout",
       "text": [
        "\n",
        "757: sleep for 9 secs...."
       ]
      },
      {
       "output_type": "stream",
       "stream": "stdout",
       "text": [
        "\n",
        "758: sleep for 3 secs...."
       ]
      },
      {
       "output_type": "stream",
       "stream": "stdout",
       "text": [
        "\n",
        "759: sleep for 9 secs...."
       ]
      },
      {
       "output_type": "stream",
       "stream": "stdout",
       "text": [
        "\n",
        "760: sleep for 6 secs...."
       ]
      },
      {
       "output_type": "stream",
       "stream": "stdout",
       "text": [
        "\n",
        "761: sleep for 6 secs...."
       ]
      },
      {
       "output_type": "stream",
       "stream": "stdout",
       "text": [
        "\n",
        "762: sleep for 7 secs...."
       ]
      },
      {
       "output_type": "stream",
       "stream": "stdout",
       "text": [
        "\n",
        "763: sleep for 3 secs...."
       ]
      },
      {
       "output_type": "stream",
       "stream": "stdout",
       "text": [
        "\n",
        "764: sleep for 6 secs...."
       ]
      },
      {
       "output_type": "stream",
       "stream": "stdout",
       "text": [
        "\n",
        "765: sleep for 6 secs...."
       ]
      },
      {
       "output_type": "stream",
       "stream": "stdout",
       "text": [
        "\n",
        "766: sleep for 7 secs...."
       ]
      },
      {
       "output_type": "stream",
       "stream": "stdout",
       "text": [
        "\n",
        "767: sleep for 7 secs...."
       ]
      },
      {
       "output_type": "stream",
       "stream": "stdout",
       "text": [
        "\n",
        "768: sleep for 9 secs...."
       ]
      },
      {
       "output_type": "stream",
       "stream": "stdout",
       "text": [
        "\n",
        "769: sleep for 8 secs...."
       ]
      },
      {
       "output_type": "stream",
       "stream": "stdout",
       "text": [
        "\n",
        "770: sleep for 5 secs...."
       ]
      },
      {
       "output_type": "stream",
       "stream": "stdout",
       "text": [
        "\n",
        "771: sleep for 6 secs...."
       ]
      },
      {
       "output_type": "stream",
       "stream": "stdout",
       "text": [
        "\n",
        "772: sleep for 8 secs...."
       ]
      },
      {
       "output_type": "stream",
       "stream": "stdout",
       "text": [
        "\n",
        "773: sleep for 2 secs...."
       ]
      },
      {
       "output_type": "stream",
       "stream": "stdout",
       "text": [
        "\n",
        "774: sleep for 10 secs...."
       ]
      },
      {
       "output_type": "stream",
       "stream": "stdout",
       "text": [
        "\n",
        "775: sleep for 3 secs...."
       ]
      },
      {
       "output_type": "stream",
       "stream": "stdout",
       "text": [
        "\n",
        "776: sleep for 10 secs...."
       ]
      },
      {
       "output_type": "stream",
       "stream": "stdout",
       "text": [
        "\n",
        "777: sleep for 10 secs...."
       ]
      },
      {
       "output_type": "stream",
       "stream": "stdout",
       "text": [
        "\n",
        "778: sleep for 6 secs...."
       ]
      },
      {
       "output_type": "stream",
       "stream": "stdout",
       "text": [
        "\n",
        "779: sleep for 9 secs...."
       ]
      },
      {
       "output_type": "stream",
       "stream": "stdout",
       "text": [
        "\n",
        "780: sleep for 9 secs...."
       ]
      },
      {
       "output_type": "stream",
       "stream": "stdout",
       "text": [
        "\n",
        "781: sleep for 7 secs...."
       ]
      },
      {
       "output_type": "stream",
       "stream": "stdout",
       "text": [
        "\n",
        "782: sleep for 2 secs...."
       ]
      },
      {
       "output_type": "stream",
       "stream": "stdout",
       "text": [
        "\n",
        "783: sleep for 10 secs...."
       ]
      },
      {
       "output_type": "stream",
       "stream": "stdout",
       "text": [
        "\n",
        "784: sleep for 5 secs...."
       ]
      },
      {
       "output_type": "stream",
       "stream": "stdout",
       "text": [
        "\n",
        "785: sleep for 6 secs...."
       ]
      },
      {
       "output_type": "stream",
       "stream": "stdout",
       "text": [
        "\n",
        "786: sleep for 9 secs...."
       ]
      },
      {
       "output_type": "stream",
       "stream": "stdout",
       "text": [
        "\n",
        "787: sleep for 9 secs...."
       ]
      },
      {
       "output_type": "stream",
       "stream": "stdout",
       "text": [
        "\n",
        "788: sleep for 10 secs...."
       ]
      },
      {
       "output_type": "stream",
       "stream": "stdout",
       "text": [
        "\n",
        "789: sleep for 3 secs...."
       ]
      },
      {
       "output_type": "stream",
       "stream": "stdout",
       "text": [
        "\n"
       ]
      }
     ],
     "prompt_number": 121
    },
    {
     "cell_type": "code",
     "collapsed": false,
     "input": [
      "aRecordIndex = random.randint(0, len(quotesList))\n",
      "print existSymbols[aRecordIndex] + \" \" + str(aRecordIndex)\n",
      "quotesList[aRecordIndex]"
     ],
     "language": "python",
     "metadata": {},
     "outputs": [
      {
       "output_type": "stream",
       "stream": "stdout",
       "text": [
        "ELMD 277\n"
       ]
      },
      {
       "html": [
        "<div style=\"max-height:1000px;max-width:1500px;overflow:auto;\">\n",
        "<table border=\"1\" class=\"dataframe\">\n",
        "  <thead>\n",
        "    <tr style=\"text-align: right;\">\n",
        "      <th></th>\n",
        "      <th>Open</th>\n",
        "      <th>High</th>\n",
        "      <th>Low</th>\n",
        "      <th>Close</th>\n",
        "      <th>Volume</th>\n",
        "      <th>Adj Close</th>\n",
        "    </tr>\n",
        "    <tr>\n",
        "      <th>Date</th>\n",
        "      <th></th>\n",
        "      <th></th>\n",
        "      <th></th>\n",
        "      <th></th>\n",
        "      <th></th>\n",
        "      <th></th>\n",
        "    </tr>\n",
        "  </thead>\n",
        "  <tbody>\n",
        "    <tr>\n",
        "      <th>2015-12-15</th>\n",
        "      <td> 1.89</td>\n",
        "      <td> 1.91</td>\n",
        "      <td> 1.84</td>\n",
        "      <td> 1.86</td>\n",
        "      <td> 22300</td>\n",
        "      <td> 1.86</td>\n",
        "    </tr>\n",
        "    <tr>\n",
        "      <th>2015-12-16</th>\n",
        "      <td> 1.84</td>\n",
        "      <td> 2.10</td>\n",
        "      <td> 1.84</td>\n",
        "      <td> 1.89</td>\n",
        "      <td> 27400</td>\n",
        "      <td> 1.89</td>\n",
        "    </tr>\n",
        "    <tr>\n",
        "      <th>2015-12-17</th>\n",
        "      <td> 1.85</td>\n",
        "      <td> 1.97</td>\n",
        "      <td> 1.82</td>\n",
        "      <td> 1.87</td>\n",
        "      <td> 22700</td>\n",
        "      <td> 1.87</td>\n",
        "    </tr>\n",
        "    <tr>\n",
        "      <th>2015-12-18</th>\n",
        "      <td> 1.81</td>\n",
        "      <td> 2.00</td>\n",
        "      <td> 1.81</td>\n",
        "      <td> 2.00</td>\n",
        "      <td> 10400</td>\n",
        "      <td> 2.00</td>\n",
        "    </tr>\n",
        "    <tr>\n",
        "      <th>2015-12-21</th>\n",
        "      <td> 1.95</td>\n",
        "      <td> 1.95</td>\n",
        "      <td> 1.85</td>\n",
        "      <td> 1.85</td>\n",
        "      <td>  8300</td>\n",
        "      <td> 1.85</td>\n",
        "    </tr>\n",
        "    <tr>\n",
        "      <th>2015-12-22</th>\n",
        "      <td> 1.85</td>\n",
        "      <td> 1.89</td>\n",
        "      <td> 1.85</td>\n",
        "      <td> 1.89</td>\n",
        "      <td> 21200</td>\n",
        "      <td> 1.89</td>\n",
        "    </tr>\n",
        "    <tr>\n",
        "      <th>2015-12-23</th>\n",
        "      <td> 1.85</td>\n",
        "      <td> 1.89</td>\n",
        "      <td> 1.85</td>\n",
        "      <td> 1.88</td>\n",
        "      <td> 11100</td>\n",
        "      <td> 1.88</td>\n",
        "    </tr>\n",
        "    <tr>\n",
        "      <th>2015-12-24</th>\n",
        "      <td> 1.96</td>\n",
        "      <td> 1.96</td>\n",
        "      <td> 1.91</td>\n",
        "      <td> 1.92</td>\n",
        "      <td>  9900</td>\n",
        "      <td> 1.92</td>\n",
        "    </tr>\n",
        "    <tr>\n",
        "      <th>2015-12-28</th>\n",
        "      <td> 1.87</td>\n",
        "      <td> 1.92</td>\n",
        "      <td> 1.77</td>\n",
        "      <td> 1.85</td>\n",
        "      <td> 66500</td>\n",
        "      <td> 1.85</td>\n",
        "    </tr>\n",
        "    <tr>\n",
        "      <th>2015-12-29</th>\n",
        "      <td> 1.86</td>\n",
        "      <td> 1.89</td>\n",
        "      <td> 1.72</td>\n",
        "      <td> 1.84</td>\n",
        "      <td> 25900</td>\n",
        "      <td> 1.84</td>\n",
        "    </tr>\n",
        "    <tr>\n",
        "      <th>2015-12-30</th>\n",
        "      <td> 1.91</td>\n",
        "      <td> 1.91</td>\n",
        "      <td> 1.81</td>\n",
        "      <td> 1.86</td>\n",
        "      <td> 11700</td>\n",
        "      <td> 1.86</td>\n",
        "    </tr>\n",
        "    <tr>\n",
        "      <th>2015-12-31</th>\n",
        "      <td> 1.85</td>\n",
        "      <td> 1.90</td>\n",
        "      <td> 1.85</td>\n",
        "      <td> 1.90</td>\n",
        "      <td>  3500</td>\n",
        "      <td> 1.90</td>\n",
        "    </tr>\n",
        "    <tr>\n",
        "      <th>2016-01-04</th>\n",
        "      <td> 1.95</td>\n",
        "      <td> 2.05</td>\n",
        "      <td> 1.78</td>\n",
        "      <td> 1.93</td>\n",
        "      <td> 33700</td>\n",
        "      <td> 1.93</td>\n",
        "    </tr>\n",
        "    <tr>\n",
        "      <th>2016-01-05</th>\n",
        "      <td> 1.85</td>\n",
        "      <td> 2.09</td>\n",
        "      <td> 1.85</td>\n",
        "      <td> 1.89</td>\n",
        "      <td> 19300</td>\n",
        "      <td> 1.89</td>\n",
        "    </tr>\n",
        "    <tr>\n",
        "      <th>2016-01-06</th>\n",
        "      <td> 1.86</td>\n",
        "      <td> 1.90</td>\n",
        "      <td> 1.80</td>\n",
        "      <td> 1.80</td>\n",
        "      <td>  7500</td>\n",
        "      <td> 1.80</td>\n",
        "    </tr>\n",
        "    <tr>\n",
        "      <th>2016-01-07</th>\n",
        "      <td> 1.80</td>\n",
        "      <td> 1.83</td>\n",
        "      <td> 1.76</td>\n",
        "      <td> 1.78</td>\n",
        "      <td> 18500</td>\n",
        "      <td> 1.78</td>\n",
        "    </tr>\n",
        "    <tr>\n",
        "      <th>2016-01-08</th>\n",
        "      <td> 1.78</td>\n",
        "      <td> 1.83</td>\n",
        "      <td> 1.77</td>\n",
        "      <td> 1.78</td>\n",
        "      <td>  3100</td>\n",
        "      <td> 1.78</td>\n",
        "    </tr>\n",
        "    <tr>\n",
        "      <th>2016-01-11</th>\n",
        "      <td> 1.82</td>\n",
        "      <td> 1.85</td>\n",
        "      <td> 1.64</td>\n",
        "      <td> 1.72</td>\n",
        "      <td> 39600</td>\n",
        "      <td> 1.72</td>\n",
        "    </tr>\n",
        "    <tr>\n",
        "      <th>2016-01-12</th>\n",
        "      <td> 1.71</td>\n",
        "      <td> 1.77</td>\n",
        "      <td> 1.71</td>\n",
        "      <td> 1.75</td>\n",
        "      <td> 36000</td>\n",
        "      <td> 1.75</td>\n",
        "    </tr>\n",
        "    <tr>\n",
        "      <th>2016-01-13</th>\n",
        "      <td> 1.77</td>\n",
        "      <td> 1.78</td>\n",
        "      <td> 1.72</td>\n",
        "      <td> 1.72</td>\n",
        "      <td> 17600</td>\n",
        "      <td> 1.72</td>\n",
        "    </tr>\n",
        "  </tbody>\n",
        "</table>\n",
        "</div>"
       ],
       "metadata": {},
       "output_type": "pyout",
       "prompt_number": 153,
       "text": [
        "            Open  High   Low  Close  Volume  Adj Close\n",
        "Date                                                  \n",
        "2015-12-15  1.89  1.91  1.84   1.86   22300       1.86\n",
        "2015-12-16  1.84  2.10  1.84   1.89   27400       1.89\n",
        "2015-12-17  1.85  1.97  1.82   1.87   22700       1.87\n",
        "2015-12-18  1.81  2.00  1.81   2.00   10400       2.00\n",
        "2015-12-21  1.95  1.95  1.85   1.85    8300       1.85\n",
        "2015-12-22  1.85  1.89  1.85   1.89   21200       1.89\n",
        "2015-12-23  1.85  1.89  1.85   1.88   11100       1.88\n",
        "2015-12-24  1.96  1.96  1.91   1.92    9900       1.92\n",
        "2015-12-28  1.87  1.92  1.77   1.85   66500       1.85\n",
        "2015-12-29  1.86  1.89  1.72   1.84   25900       1.84\n",
        "2015-12-30  1.91  1.91  1.81   1.86   11700       1.86\n",
        "2015-12-31  1.85  1.90  1.85   1.90    3500       1.90\n",
        "2016-01-04  1.95  2.05  1.78   1.93   33700       1.93\n",
        "2016-01-05  1.85  2.09  1.85   1.89   19300       1.89\n",
        "2016-01-06  1.86  1.90  1.80   1.80    7500       1.80\n",
        "2016-01-07  1.80  1.83  1.76   1.78   18500       1.78\n",
        "2016-01-08  1.78  1.83  1.77   1.78    3100       1.78\n",
        "2016-01-11  1.82  1.85  1.64   1.72   39600       1.72\n",
        "2016-01-12  1.71  1.77  1.71   1.75   36000       1.75\n",
        "2016-01-13  1.77  1.78  1.72   1.72   17600       1.72"
       ]
      }
     ],
     "prompt_number": 153
    },
    {
     "cell_type": "code",
     "collapsed": false,
     "input": [
      "len(existSymbols)"
     ],
     "language": "python",
     "metadata": {},
     "outputs": [
      {
       "metadata": {},
       "output_type": "pyout",
       "prompt_number": 126,
       "text": [
        "766"
       ]
      }
     ],
     "prompt_number": 126
    },
    {
     "cell_type": "code",
     "collapsed": false,
     "input": [
      "from os import listdir\n",
      "from os.path import isfile, join\n",
      "#onlyfiles = [f for f in listdir(\"biotech-quotes\") if isfile(join(mypath, f))]\n",
      "onlyfiles = [f for f in listdir(\"biotech-quotes\")]\n",
      "\n",
      "# Read the quotes from files\n",
      "readQuotesList = []\n",
      "readSymbols = []\n",
      "\n",
      "for file in onlyfiles:\n",
      "    fname = \"biotech-quotes/\" + file\n",
      "    #fin = open(fname, \"r\")\n",
      "    df = pd.read_csv(fname)\n",
      "    df.set_index([\"Date\"], inplace = True)\n",
      "    readQuotesList.append(df)\n",
      "    \n",
      "    readSymbols.append(file.split(\".\")[0])"
     ],
     "language": "python",
     "metadata": {},
     "outputs": [],
     "prompt_number": 152
    },
    {
     "cell_type": "code",
     "collapsed": false,
     "input": [
      "print len(readSymbols)\n",
      "\n",
      "for i in range(len(readSymbols)):\n",
      "    if readSymbols[i] == existSymbols[aRecordIndex]:\n",
      "        aRecordIndex = i\n",
      "        break\n",
      "        \n",
      "print readSymbols[aRecordIndex] + \" \" + str(aRecordIndex)\n",
      "readQuotesList[aRecordIndex]"
     ],
     "language": "python",
     "metadata": {},
     "outputs": [
      {
       "output_type": "stream",
       "stream": "stdout",
       "text": [
        "766\n",
        "ELMD 273\n"
       ]
      },
      {
       "html": [
        "<div style=\"max-height:1000px;max-width:1500px;overflow:auto;\">\n",
        "<table border=\"1\" class=\"dataframe\">\n",
        "  <thead>\n",
        "    <tr style=\"text-align: right;\">\n",
        "      <th></th>\n",
        "      <th>Open</th>\n",
        "      <th>High</th>\n",
        "      <th>Low</th>\n",
        "      <th>Close</th>\n",
        "      <th>Volume</th>\n",
        "      <th>Adj Close</th>\n",
        "    </tr>\n",
        "    <tr>\n",
        "      <th>Date</th>\n",
        "      <th></th>\n",
        "      <th></th>\n",
        "      <th></th>\n",
        "      <th></th>\n",
        "      <th></th>\n",
        "      <th></th>\n",
        "    </tr>\n",
        "  </thead>\n",
        "  <tbody>\n",
        "    <tr>\n",
        "      <th>2015-12-15</th>\n",
        "      <td> 1.89</td>\n",
        "      <td> 1.91</td>\n",
        "      <td> 1.84</td>\n",
        "      <td> 1.86</td>\n",
        "      <td> 22300</td>\n",
        "      <td> 1.86</td>\n",
        "    </tr>\n",
        "    <tr>\n",
        "      <th>2015-12-16</th>\n",
        "      <td> 1.84</td>\n",
        "      <td> 2.10</td>\n",
        "      <td> 1.84</td>\n",
        "      <td> 1.89</td>\n",
        "      <td> 27400</td>\n",
        "      <td> 1.89</td>\n",
        "    </tr>\n",
        "    <tr>\n",
        "      <th>2015-12-17</th>\n",
        "      <td> 1.85</td>\n",
        "      <td> 1.97</td>\n",
        "      <td> 1.82</td>\n",
        "      <td> 1.87</td>\n",
        "      <td> 22700</td>\n",
        "      <td> 1.87</td>\n",
        "    </tr>\n",
        "    <tr>\n",
        "      <th>2015-12-18</th>\n",
        "      <td> 1.81</td>\n",
        "      <td> 2.00</td>\n",
        "      <td> 1.81</td>\n",
        "      <td> 2.00</td>\n",
        "      <td> 10400</td>\n",
        "      <td> 2.00</td>\n",
        "    </tr>\n",
        "    <tr>\n",
        "      <th>2015-12-21</th>\n",
        "      <td> 1.95</td>\n",
        "      <td> 1.95</td>\n",
        "      <td> 1.85</td>\n",
        "      <td> 1.85</td>\n",
        "      <td>  8300</td>\n",
        "      <td> 1.85</td>\n",
        "    </tr>\n",
        "    <tr>\n",
        "      <th>2015-12-22</th>\n",
        "      <td> 1.85</td>\n",
        "      <td> 1.89</td>\n",
        "      <td> 1.85</td>\n",
        "      <td> 1.89</td>\n",
        "      <td> 21200</td>\n",
        "      <td> 1.89</td>\n",
        "    </tr>\n",
        "    <tr>\n",
        "      <th>2015-12-23</th>\n",
        "      <td> 1.85</td>\n",
        "      <td> 1.89</td>\n",
        "      <td> 1.85</td>\n",
        "      <td> 1.88</td>\n",
        "      <td> 11100</td>\n",
        "      <td> 1.88</td>\n",
        "    </tr>\n",
        "    <tr>\n",
        "      <th>2015-12-24</th>\n",
        "      <td> 1.96</td>\n",
        "      <td> 1.96</td>\n",
        "      <td> 1.91</td>\n",
        "      <td> 1.92</td>\n",
        "      <td>  9900</td>\n",
        "      <td> 1.92</td>\n",
        "    </tr>\n",
        "    <tr>\n",
        "      <th>2015-12-28</th>\n",
        "      <td> 1.87</td>\n",
        "      <td> 1.92</td>\n",
        "      <td> 1.77</td>\n",
        "      <td> 1.85</td>\n",
        "      <td> 66500</td>\n",
        "      <td> 1.85</td>\n",
        "    </tr>\n",
        "    <tr>\n",
        "      <th>2015-12-29</th>\n",
        "      <td> 1.86</td>\n",
        "      <td> 1.89</td>\n",
        "      <td> 1.72</td>\n",
        "      <td> 1.84</td>\n",
        "      <td> 25900</td>\n",
        "      <td> 1.84</td>\n",
        "    </tr>\n",
        "    <tr>\n",
        "      <th>2015-12-30</th>\n",
        "      <td> 1.91</td>\n",
        "      <td> 1.91</td>\n",
        "      <td> 1.81</td>\n",
        "      <td> 1.86</td>\n",
        "      <td> 11700</td>\n",
        "      <td> 1.86</td>\n",
        "    </tr>\n",
        "    <tr>\n",
        "      <th>2015-12-31</th>\n",
        "      <td> 1.85</td>\n",
        "      <td> 1.90</td>\n",
        "      <td> 1.85</td>\n",
        "      <td> 1.90</td>\n",
        "      <td>  3500</td>\n",
        "      <td> 1.90</td>\n",
        "    </tr>\n",
        "    <tr>\n",
        "      <th>2016-01-04</th>\n",
        "      <td> 1.95</td>\n",
        "      <td> 2.05</td>\n",
        "      <td> 1.78</td>\n",
        "      <td> 1.93</td>\n",
        "      <td> 33700</td>\n",
        "      <td> 1.93</td>\n",
        "    </tr>\n",
        "    <tr>\n",
        "      <th>2016-01-05</th>\n",
        "      <td> 1.85</td>\n",
        "      <td> 2.09</td>\n",
        "      <td> 1.85</td>\n",
        "      <td> 1.89</td>\n",
        "      <td> 19300</td>\n",
        "      <td> 1.89</td>\n",
        "    </tr>\n",
        "    <tr>\n",
        "      <th>2016-01-06</th>\n",
        "      <td> 1.86</td>\n",
        "      <td> 1.90</td>\n",
        "      <td> 1.80</td>\n",
        "      <td> 1.80</td>\n",
        "      <td>  7500</td>\n",
        "      <td> 1.80</td>\n",
        "    </tr>\n",
        "    <tr>\n",
        "      <th>2016-01-07</th>\n",
        "      <td> 1.80</td>\n",
        "      <td> 1.83</td>\n",
        "      <td> 1.76</td>\n",
        "      <td> 1.78</td>\n",
        "      <td> 18500</td>\n",
        "      <td> 1.78</td>\n",
        "    </tr>\n",
        "    <tr>\n",
        "      <th>2016-01-08</th>\n",
        "      <td> 1.78</td>\n",
        "      <td> 1.83</td>\n",
        "      <td> 1.77</td>\n",
        "      <td> 1.78</td>\n",
        "      <td>  3100</td>\n",
        "      <td> 1.78</td>\n",
        "    </tr>\n",
        "    <tr>\n",
        "      <th>2016-01-11</th>\n",
        "      <td> 1.82</td>\n",
        "      <td> 1.85</td>\n",
        "      <td> 1.64</td>\n",
        "      <td> 1.72</td>\n",
        "      <td> 39600</td>\n",
        "      <td> 1.72</td>\n",
        "    </tr>\n",
        "    <tr>\n",
        "      <th>2016-01-12</th>\n",
        "      <td> 1.71</td>\n",
        "      <td> 1.77</td>\n",
        "      <td> 1.71</td>\n",
        "      <td> 1.75</td>\n",
        "      <td> 36000</td>\n",
        "      <td> 1.75</td>\n",
        "    </tr>\n",
        "    <tr>\n",
        "      <th>2016-01-13</th>\n",
        "      <td> 1.77</td>\n",
        "      <td> 1.78</td>\n",
        "      <td> 1.72</td>\n",
        "      <td> 1.72</td>\n",
        "      <td> 17600</td>\n",
        "      <td> 1.72</td>\n",
        "    </tr>\n",
        "  </tbody>\n",
        "</table>\n",
        "</div>"
       ],
       "metadata": {},
       "output_type": "pyout",
       "prompt_number": 154,
       "text": [
        "            Open  High   Low  Close  Volume  Adj Close\n",
        "Date                                                  \n",
        "2015-12-15  1.89  1.91  1.84   1.86   22300       1.86\n",
        "2015-12-16  1.84  2.10  1.84   1.89   27400       1.89\n",
        "2015-12-17  1.85  1.97  1.82   1.87   22700       1.87\n",
        "2015-12-18  1.81  2.00  1.81   2.00   10400       2.00\n",
        "2015-12-21  1.95  1.95  1.85   1.85    8300       1.85\n",
        "2015-12-22  1.85  1.89  1.85   1.89   21200       1.89\n",
        "2015-12-23  1.85  1.89  1.85   1.88   11100       1.88\n",
        "2015-12-24  1.96  1.96  1.91   1.92    9900       1.92\n",
        "2015-12-28  1.87  1.92  1.77   1.85   66500       1.85\n",
        "2015-12-29  1.86  1.89  1.72   1.84   25900       1.84\n",
        "2015-12-30  1.91  1.91  1.81   1.86   11700       1.86\n",
        "2015-12-31  1.85  1.90  1.85   1.90    3500       1.90\n",
        "2016-01-04  1.95  2.05  1.78   1.93   33700       1.93\n",
        "2016-01-05  1.85  2.09  1.85   1.89   19300       1.89\n",
        "2016-01-06  1.86  1.90  1.80   1.80    7500       1.80\n",
        "2016-01-07  1.80  1.83  1.76   1.78   18500       1.78\n",
        "2016-01-08  1.78  1.83  1.77   1.78    3100       1.78\n",
        "2016-01-11  1.82  1.85  1.64   1.72   39600       1.72\n",
        "2016-01-12  1.71  1.77  1.71   1.75   36000       1.75\n",
        "2016-01-13  1.77  1.78  1.72   1.72   17600       1.72"
       ]
      }
     ],
     "prompt_number": 154
    },
    {
     "cell_type": "code",
     "collapsed": false,
     "input": [
      "import numpy as np\n",
      "np.array(readQuotesList[273].tail(5)[\"Adj Close\"])"
     ],
     "language": "python",
     "metadata": {},
     "outputs": [
      {
       "metadata": {},
       "output_type": "pyout",
       "prompt_number": 159,
       "text": [
        "array([ 1.78,  1.78,  1.72,  1.75,  1.72])"
       ]
      }
     ],
     "prompt_number": 159
    },
    {
     "cell_type": "code",
     "collapsed": false,
     "input": [
      "# Mann-Kendall test for trend analysis\n",
      "import numpy as np  \n",
      "from scipy.stats import norm, mstats\n",
      "\n",
      "\n",
      "def mk_test(x, alpha = 0.05):  \n",
      "    \"\"\"   \n",
      "    Input:\n",
      "        x:   a vector of data\n",
      "        alpha: significance level (0.05 default)\n",
      "\n",
      "    Output:\n",
      "        trend: tells the trend (increasing, decreasing or no trend)\n",
      "        h: True (if trend is present) or False (if trend is absence)\n",
      "        p: p value of the significance test\n",
      "        z: normalized test statistics \n",
      "\n",
      "    Examples\n",
      "    --------\n",
      "      >>> x = np.random.rand(100)\n",
      "      >>> trend,h,p,z = mk_test(x,0.05) \n",
      "    \"\"\"\n",
      "    n = len(x)\n",
      "\n",
      "    # calculate S \n",
      "    s = 0\n",
      "    for k in range(n-1):\n",
      "        for j in range(k+1,n):\n",
      "            s += np.sign(x[j] - x[k])\n",
      "\n",
      "    # calculate the unique data\n",
      "    unique_x = np.unique(x)\n",
      "    g = len(unique_x)\n",
      "\n",
      "    # calculate the var(s)\n",
      "    if n == g: # there is no tie\n",
      "        var_s = (n*(n-1)*(2*n+5))/18\n",
      "    else: # there are some ties in data\n",
      "        tp = np.zeros(unique_x.shape)\n",
      "        for i in range(len(unique_x)):\n",
      "            tp[i] = sum(unique_x[i] == x)\n",
      "        var_s = (n*(n-1)*(2*n+5) + np.sum(tp*(tp-1)*(2*tp+5)))/18\n",
      "\n",
      "    if s>0:\n",
      "        z = (s - 1)/np.sqrt(var_s)\n",
      "    elif s == 0:\n",
      "            z = 0\n",
      "    elif s<0:\n",
      "        z = (s + 1)/np.sqrt(var_s)\n",
      "\n",
      "    # calculate the p_value\n",
      "    p = 2*(1-norm.cdf(abs(z))) # two tail test\n",
      "    h = abs(z) > norm.ppf(1-alpha/2) \n",
      "\n",
      "    if (z<0) and h:\n",
      "        trend = 'decreasing'\n",
      "    elif (z>0) and h:\n",
      "        trend = 'increasing'\n",
      "    else:\n",
      "        trend = 'no trend'\n",
      "\n",
      "    return s, trend, h, p, z"
     ],
     "language": "python",
     "metadata": {},
     "outputs": [],
     "prompt_number": 166
    },
    {
     "cell_type": "code",
     "collapsed": false,
     "input": [
      "trend = np.array(readQuotesList[273].tail(5)[\"Adj Close\"]) \n",
      "s,test_trend,h,p,z = mk_test(trend,alpha=0.05)  \n",
      "print s, test_trend, h  \n",
      "print z, p "
     ],
     "language": "python",
     "metadata": {},
     "outputs": [
      {
       "output_type": "stream",
       "stream": "stdout",
       "text": [
        "-6.0 no trend False\n",
        "-1.15727512472 0.247159973212\n"
       ]
      }
     ],
     "prompt_number": 167
    },
    {
     "cell_type": "code",
     "collapsed": false,
     "input": [
      "# Calculate the average volume for past 5 days for a given symbol\n",
      "def avg_volume_5(symbolIndex):\n",
      "    "
     ],
     "language": "python",
     "metadata": {},
     "outputs": []
    },
    {
     "cell_type": "code",
     "collapsed": false,
     "input": [
      "# Detect increasingly trending stocks in the past 5 trading days\n",
      "import numpy as np\n",
      "\n",
      "growingSymbols = []\n",
      "growingSymbolsByS = []\n",
      "for i in range(len(readQuotesList)):\n",
      "    trend = np.array(readQuotesList[i].tail(5)[\"Adj Close\"]) \n",
      "    s,test_trend,h,p,z = mk_test(trend,alpha=0.05) \n",
      "    if test_trend == \"increasing\":\n",
      "        growingSymbols.append(readSymbols[i])\n",
      "    if s > 0:\n",
      "        growingSymbolsByS.append(readSymbols[i])\n",
      "        \n",
      "print growingSymbols, len(growingSymbols)\n",
      "print growingSymbolsByS, len(growingSymbolsByS)"
     ],
     "language": "python",
     "metadata": {},
     "outputs": [
      {
       "output_type": "stream",
       "stream": "stdout",
       "text": [
        "['JAGX'] 1\n",
        "['ABMD', 'AMS', 'ANTX', 'ARIA', 'ATRI', 'BASI', 'BDMS', 'BNTC', 'BPTH', 'BSTC', 'CASM', 'CELGZ', 'CFRX', 'CLBS', 'CNCE', 'CPIX', 'CPRX', 'CRDC', 'CVS', 'DRAD', 'DYAX', 'ECTE', 'ENZ', 'EPIX', 'GCVRZ', 'GILD', 'GSK', 'HCA', 'HCSG', 'HRC', 'IPCI', 'ISRG', 'JAGX', 'KMDA', 'KURA', 'LBMH', 'LMAT', 'LUX', 'MDT', 'MGCD', 'MIRN', 'MLSS', 'MNKD', 'MYOS', 'NATR', 'NEPT', 'NSTG', 'NURO', 'NVCN', 'NVCR', 'NVET', 'NVRO', 'NVTA', 'OASM', 'OCAT', 'PARN', 'PETS', 'RELV', 'RIGL', 'RMD', 'SCAI', 'SIEN', 'SNMX', 'SNSS', 'SPAN', 'STAA', 'SVA', 'SYK', 'TFX', 'TRIV', 'UAM', 'USMD', 'UTMD', 'VNDA', 'WMGIZ', 'ZFGN'] 76\n"
       ]
      }
     ],
     "prompt_number": 170
    },
    {
     "cell_type": "code",
     "collapsed": false,
     "input": [],
     "language": "python",
     "metadata": {},
     "outputs": []
    }
   ],
   "metadata": {}
  }
 ]
}